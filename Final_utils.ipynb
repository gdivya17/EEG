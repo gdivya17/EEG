{
  "nbformat": 4,
  "nbformat_minor": 0,
  "metadata": {
    "colab": {
      "name": "Final utils.ipynb",
      "provenance": [],
      "collapsed_sections": []
    },
    "kernelspec": {
      "display_name": "Python 3",
      "name": "python3"
    }
  },
  "cells": [
    {
      "cell_type": "code",
      "metadata": {
        "colab": {
          "base_uri": "https://localhost:8080/"
        },
        "id": "yiHi-1ksveW5",
        "outputId": "ef816023-939c-4878-ad0c-0f0ac471f238"
      },
      "source": [
        "from google.colab import drive\n",
        "drive.mount('/content/drive')"
      ],
      "execution_count": null,
      "outputs": [
        {
          "output_type": "stream",
          "text": [
            "Mounted at /content/drive\n"
          ],
          "name": "stdout"
        }
      ]
    },
    {
      "cell_type": "code",
      "metadata": {
        "colab": {
          "base_uri": "https://localhost:8080/"
        },
        "id": "fOt_U9O-5f0L",
        "outputId": "e6184b0a-3757-420e-ac9e-020539a7deed"
      },
      "source": [
        "!git clone https://github.com/raphaelvallat/entropy.git entropy/"
      ],
      "execution_count": null,
      "outputs": [
        {
          "output_type": "stream",
          "text": [
            "Cloning into 'entropy'...\n",
            "remote: Enumerating objects: 185, done.\u001b[K\n",
            "remote: Counting objects: 100% (185/185), done.\u001b[K\n",
            "remote: Compressing objects: 100% (111/111), done.\u001b[K\n",
            "remote: Total 1196 (delta 109), reused 131 (delta 70), pack-reused 1011\u001b[K\n",
            "Receiving objects: 100% (1196/1196), 2.42 MiB | 19.47 MiB/s, done.\n",
            "Resolving deltas: 100% (724/724), done.\n"
          ],
          "name": "stdout"
        }
      ]
    },
    {
      "cell_type": "code",
      "metadata": {
        "colab": {
          "base_uri": "https://localhost:8080/"
        },
        "id": "I_gSymE46KKd",
        "outputId": "86aa366f-06dc-4fa3-aff5-39394f599b9f"
      },
      "source": [
        "%cd entropy/"
      ],
      "execution_count": null,
      "outputs": [
        {
          "output_type": "stream",
          "text": [
            "/content/entropy\n"
          ],
          "name": "stdout"
        }
      ]
    },
    {
      "cell_type": "code",
      "metadata": {
        "colab": {
          "base_uri": "https://localhost:8080/"
        },
        "id": "mC8i9P5SLq9w",
        "outputId": "36448a84-b1f3-4ea8-e8bf-16bc960a061f"
      },
      "source": [
        "!pip install -r requirements.txt"
      ],
      "execution_count": null,
      "outputs": [
        {
          "output_type": "stream",
          "text": [
            "Requirement already satisfied: numpy in /usr/local/lib/python3.6/dist-packages (from -r requirements.txt (line 1)) (1.18.5)\n",
            "Requirement already satisfied: scipy in /usr/local/lib/python3.6/dist-packages (from -r requirements.txt (line 2)) (1.4.1)\n",
            "Requirement already satisfied: sklearn in /usr/local/lib/python3.6/dist-packages (from -r requirements.txt (line 3)) (0.0)\n",
            "Requirement already satisfied: numba in /usr/local/lib/python3.6/dist-packages (from -r requirements.txt (line 4)) (0.48.0)\n",
            "Requirement already satisfied: scikit-learn in /usr/local/lib/python3.6/dist-packages (from sklearn->-r requirements.txt (line 3)) (0.22.2.post1)\n",
            "Requirement already satisfied: llvmlite<0.32.0,>=0.31.0dev0 in /usr/local/lib/python3.6/dist-packages (from numba->-r requirements.txt (line 4)) (0.31.0)\n",
            "Requirement already satisfied: setuptools in /usr/local/lib/python3.6/dist-packages (from numba->-r requirements.txt (line 4)) (50.3.2)\n",
            "Requirement already satisfied: joblib>=0.11 in /usr/local/lib/python3.6/dist-packages (from scikit-learn->sklearn->-r requirements.txt (line 3)) (0.17.0)\n"
          ],
          "name": "stdout"
        }
      ]
    },
    {
      "cell_type": "code",
      "metadata": {
        "colab": {
          "base_uri": "https://localhost:8080/"
        },
        "id": "7-c6WesoLxTm",
        "outputId": "53f43b31-5bef-4f30-c7d7-0ae22afb519e"
      },
      "source": [
        "!python setup.py develop"
      ],
      "execution_count": null,
      "outputs": [
        {
          "output_type": "stream",
          "text": [
            "running develop\n",
            "running egg_info\n",
            "creating entropy.egg-info\n",
            "writing entropy.egg-info/PKG-INFO\n",
            "writing dependency_links to entropy.egg-info/dependency_links.txt\n",
            "writing top-level names to entropy.egg-info/top_level.txt\n",
            "writing manifest file 'entropy.egg-info/SOURCES.txt'\n",
            "reading manifest template 'MANIFEST.in'\n",
            "writing manifest file 'entropy.egg-info/SOURCES.txt'\n",
            "running build_ext\n",
            "Creating /usr/local/lib/python3.6/dist-packages/entropy.egg-link (link to .)\n",
            "Adding entropy 0.1.2 to easy-install.pth file\n",
            "\n",
            "Installed /content/entropy\n",
            "Processing dependencies for entropy==0.1.2\n",
            "Finished processing dependencies for entropy==0.1.2\n"
          ],
          "name": "stdout"
        }
      ]
    },
    {
      "cell_type": "code",
      "metadata": {
        "id": "AiMTauTRrCdB"
      },
      "source": [
        ""
      ],
      "execution_count": null,
      "outputs": []
    },
    {
      "cell_type": "code",
      "metadata": {
        "id": "G7DeQ12Zvzdv"
      },
      "source": [
        "import h5py\n",
        "from tqdm import tqdm\n",
        "import pickle\n",
        "import numpy as np\n",
        "import pandas as pd"
      ],
      "execution_count": null,
      "outputs": []
    },
    {
      "cell_type": "code",
      "metadata": {
        "colab": {
          "base_uri": "https://localhost:8080/"
        },
        "id": "Nh1Ea7Yqbwsm",
        "outputId": "b8fd2f88-d425-4e67-d780-e6ecbca8a824"
      },
      "source": [
        "#entropy wavelet transform\n",
        "!pip install ewtpy\n",
        "import ewtpy"
      ],
      "execution_count": null,
      "outputs": [
        {
          "output_type": "stream",
          "text": [
            "Collecting ewtpy\n",
            "  Downloading https://files.pythonhosted.org/packages/8b/bb/80f5725476143a25b1eb231055f52963917df2a94ccd12f51e5f4dade83c/ewtpy-0.2-py2.py3-none-any.whl\n",
            "Requirement already satisfied: scipy in /usr/local/lib/python3.6/dist-packages (from ewtpy) (1.4.1)\n",
            "Requirement already satisfied: numpy in /usr/local/lib/python3.6/dist-packages (from ewtpy) (1.18.5)\n",
            "Installing collected packages: ewtpy\n",
            "Successfully installed ewtpy-0.2\n"
          ],
          "name": "stdout"
        }
      ]
    },
    {
      "cell_type": "markdown",
      "metadata": {
        "id": "2SBNlNEIsrIQ"
      },
      "source": [
        "Step 1: EWT files\n"
      ]
    },
    {
      "cell_type": "code",
      "metadata": {
        "colab": {
          "base_uri": "https://localhost:8080/"
        },
        "id": "5Unt9SYlbwsm",
        "outputId": "47075597-7e9b-411f-adb9-5d499b0ea8c8"
      },
      "source": [
        "for i1 in tqdm(range(32)):                                                        #For 32 subjects\n",
        "  if(i1%1 == 0):\n",
        "    if i1 < 10:\n",
        "      name = '%0*d' % (2,i1+1)\n",
        "    else:\n",
        "      name = i1+1\n",
        "  fname = \"/content/drive/My Drive/Colab Notebooks/data/32/data_files/s\"+str(name)+\".dat\"  \n",
        "  fname1 = \"/content/drive/My Drive/Colab Notebooks/data/data_sub/h5/s\"+str(name)+\".h5\"\n",
        "  f = open(fname, 'rb')                                                           #Read the file in Binary mode\n",
        "  x = pickle.load(f, encoding='latin1')\n",
        "  print(fname)\n",
        "  print(x['data'].shape) \n",
        "\n",
        "  res = np.ndarray((40,32,10,8064)) \n",
        "  for i in tqdm(range(x['data'].shape[0])):                                       #For 40 videos\n",
        "      for j in range(x['data'].shape[1]):                                         #For 32 eeg caps\n",
        "        ewt,  mfb ,boundaries = ewtpy.EWT1D(x['data'][i][j], N = 10)              #Results for EWT signal\n",
        "        res[i][j] = ewt.transpose()\n",
        "  print(res.shape)    \t\n",
        "  with h5py.File(fname1, 'w') as hf:                                              #Creating EWT files for each subject\n",
        "    hf.create_dataset(\"dataset\",  data=res)\n",
        "    print(fname1)\n",
        "  hf.close()"
      ],
      "execution_count": null,
      "outputs": [
        {
          "output_type": "stream",
          "text": [
            "\n",
            "\n",
            "  0%|          | 0/9 [00:00<?, ?it/s]\u001b[A\u001b[A\n",
            "\n",
            "\n",
            "  0%|          | 0/40 [00:00<?, ?it/s]\u001b[A\u001b[A\u001b[A"
          ],
          "name": "stderr"
        },
        {
          "output_type": "stream",
          "text": [
            "/content/drive/My Drive/Colab Notebooks/data/32/data_files/s24.dat\n",
            "(40, 32, 8064)\n"
          ],
          "name": "stdout"
        },
        {
          "output_type": "stream",
          "text": [
            "\n",
            "\n",
            "\n",
            "  2%|▎         | 1/40 [00:06<04:27,  6.86s/it]\u001b[A\u001b[A\u001b[A\n",
            "\n",
            "\n",
            "  5%|▌         | 2/40 [00:13<04:21,  6.89s/it]\u001b[A\u001b[A\u001b[A\n",
            "\n",
            "\n",
            "  8%|▊         | 3/40 [00:20<04:17,  6.97s/it]\u001b[A\u001b[A\u001b[A\n",
            "\n",
            "\n",
            " 10%|█         | 4/40 [00:28<04:19,  7.20s/it]\u001b[A\u001b[A\u001b[A\n",
            "\n",
            "\n",
            " 12%|█▎        | 5/40 [00:35<04:10,  7.17s/it]\u001b[A\u001b[A\u001b[A\n",
            "\n",
            "\n",
            " 15%|█▌        | 6/40 [00:43<04:07,  7.29s/it]\u001b[A\u001b[A\u001b[A\n",
            "\n",
            "\n",
            " 18%|█▊        | 7/40 [00:50<03:57,  7.21s/it]\u001b[A\u001b[A\u001b[A\n",
            "\n",
            "\n",
            " 20%|██        | 8/40 [00:57<03:50,  7.22s/it]\u001b[A\u001b[A\u001b[A\n",
            "\n",
            "\n",
            " 22%|██▎       | 9/40 [01:04<03:43,  7.20s/it]\u001b[A\u001b[A\u001b[A\n",
            "\n",
            "\n",
            " 25%|██▌       | 10/40 [01:11<03:35,  7.17s/it]\u001b[A\u001b[A\u001b[A\n",
            "\n",
            "\n",
            " 28%|██▊       | 11/40 [01:19<03:27,  7.16s/it]\u001b[A\u001b[A\u001b[A\n",
            "\n",
            "\n",
            " 30%|███       | 12/40 [01:26<03:19,  7.13s/it]\u001b[A\u001b[A\u001b[A\n",
            "\n",
            "\n",
            " 32%|███▎      | 13/40 [01:33<03:10,  7.07s/it]\u001b[A\u001b[A\u001b[A\n",
            "\n",
            "\n",
            " 35%|███▌      | 14/40 [01:39<03:02,  7.01s/it]\u001b[A\u001b[A\u001b[A\n",
            "\n",
            "\n",
            " 38%|███▊      | 15/40 [01:46<02:54,  7.00s/it]\u001b[A\u001b[A\u001b[A\n",
            "\n",
            "\n",
            " 40%|████      | 16/40 [01:53<02:47,  6.99s/it]\u001b[A\u001b[A\u001b[A\n",
            "\n",
            "\n",
            " 42%|████▎     | 17/40 [02:01<02:42,  7.08s/it]\u001b[A\u001b[A\u001b[A\n",
            "\n",
            "\n",
            " 45%|████▌     | 18/40 [02:08<02:35,  7.05s/it]\u001b[A\u001b[A\u001b[A\n",
            "\n",
            "\n",
            " 48%|████▊     | 19/40 [02:14<02:26,  6.99s/it]\u001b[A\u001b[A\u001b[A\n",
            "\n",
            "\n",
            " 50%|█████     | 20/40 [02:21<02:18,  6.94s/it]\u001b[A\u001b[A\u001b[A\n",
            "\n",
            "\n",
            " 52%|█████▎    | 21/40 [02:28<02:11,  6.92s/it]\u001b[A\u001b[A\u001b[A\n",
            "\n",
            "\n",
            " 55%|█████▌    | 22/40 [02:35<02:04,  6.92s/it]\u001b[A\u001b[A\u001b[A\n",
            "\n",
            "\n",
            " 57%|█████▊    | 23/40 [02:42<01:57,  6.89s/it]\u001b[A\u001b[A\u001b[A\n",
            "\n",
            "\n",
            " 60%|██████    | 24/40 [02:49<01:50,  6.93s/it]\u001b[A\u001b[A\u001b[A\n",
            "\n",
            "\n",
            " 62%|██████▎   | 25/40 [02:56<01:43,  6.92s/it]\u001b[A\u001b[A\u001b[A\n",
            "\n",
            "\n",
            " 65%|██████▌   | 26/40 [03:03<01:37,  7.00s/it]\u001b[A\u001b[A\u001b[A\n",
            "\n",
            "\n",
            " 68%|██████▊   | 27/40 [03:10<01:30,  6.97s/it]\u001b[A\u001b[A\u001b[A\n",
            "\n",
            "\n",
            " 70%|███████   | 28/40 [03:17<01:23,  6.96s/it]\u001b[A\u001b[A\u001b[A\n",
            "\n",
            "\n",
            " 72%|███████▎  | 29/40 [03:24<01:18,  7.09s/it]\u001b[A\u001b[A\u001b[A\n",
            "\n",
            "\n",
            " 75%|███████▌  | 30/40 [03:32<01:11,  7.14s/it]\u001b[A\u001b[A\u001b[A\n",
            "\n",
            "\n",
            " 78%|███████▊  | 31/40 [03:38<01:03,  7.04s/it]\u001b[A\u001b[A\u001b[A\n",
            "\n",
            "\n",
            " 80%|████████  | 32/40 [03:45<00:55,  6.98s/it]\u001b[A\u001b[A\u001b[A\n",
            "\n",
            "\n",
            " 82%|████████▎ | 33/40 [03:52<00:48,  6.97s/it]\u001b[A\u001b[A\u001b[A\n",
            "\n",
            "\n",
            " 85%|████████▌ | 34/40 [03:59<00:41,  6.93s/it]\u001b[A\u001b[A\u001b[A\n",
            "\n",
            "\n",
            " 88%|████████▊ | 35/40 [04:06<00:34,  6.91s/it]\u001b[A\u001b[A\u001b[A\n",
            "\n",
            "\n",
            " 90%|█████████ | 36/40 [04:13<00:27,  6.88s/it]\u001b[A\u001b[A\u001b[A\n",
            "\n",
            "\n",
            " 92%|█████████▎| 37/40 [04:19<00:20,  6.85s/it]\u001b[A\u001b[A\u001b[A\n",
            "\n",
            "\n",
            " 95%|█████████▌| 38/40 [04:26<00:13,  6.85s/it]\u001b[A\u001b[A\u001b[A\n",
            "\n",
            "\n",
            " 98%|█████████▊| 39/40 [04:33<00:06,  6.84s/it]\u001b[A\u001b[A\u001b[A\n",
            "\n",
            "\n",
            "100%|██████████| 40/40 [04:40<00:00,  7.01s/it]\n"
          ],
          "name": "stderr"
        },
        {
          "output_type": "stream",
          "text": [
            "(40, 32, 10, 8064)\n",
            "/content/drive/My Drive/Colab Notebooks/data/data_sub/h5/s24.h5\n"
          ],
          "name": "stdout"
        },
        {
          "output_type": "stream",
          "text": [
            "\n",
            "\n",
            " 11%|█         | 1/9 [04:46<38:09, 286.14s/it]\u001b[A\u001b[A\n",
            "\n",
            "\n",
            "  0%|          | 0/40 [00:00<?, ?it/s]\u001b[A\u001b[A\u001b[A"
          ],
          "name": "stderr"
        },
        {
          "output_type": "stream",
          "text": [
            "/content/drive/My Drive/Colab Notebooks/data/32/data_files/s25.dat\n",
            "(40, 32, 8064)\n"
          ],
          "name": "stdout"
        },
        {
          "output_type": "stream",
          "text": [
            "\n",
            "\n",
            "\n",
            "  2%|▎         | 1/40 [00:07<04:38,  7.14s/it]\u001b[A\u001b[A\u001b[A\n",
            "\n",
            "\n",
            "  5%|▌         | 2/40 [00:14<04:37,  7.31s/it]\u001b[A\u001b[A\u001b[A\n",
            "\n",
            "\n",
            "  8%|▊         | 3/40 [00:21<04:23,  7.11s/it]\u001b[A\u001b[A\u001b[A\n",
            "\n",
            "\n",
            " 10%|█         | 4/40 [00:27<04:08,  6.90s/it]\u001b[A\u001b[A\u001b[A\n",
            "\n",
            "\n",
            " 12%|█▎        | 5/40 [00:34<03:56,  6.76s/it]\u001b[A\u001b[A\u001b[A\n",
            "\n",
            "\n",
            " 15%|█▌        | 6/40 [00:40<03:46,  6.65s/it]\u001b[A\u001b[A\u001b[A\n",
            "\n",
            "\n",
            " 18%|█▊        | 7/40 [00:47<03:37,  6.59s/it]\u001b[A\u001b[A\u001b[A\n",
            "\n",
            "\n",
            " 20%|██        | 8/40 [00:53<03:31,  6.60s/it]\u001b[A\u001b[A\u001b[A\n",
            "\n",
            "\n",
            " 22%|██▎       | 9/40 [01:00<03:23,  6.56s/it]\u001b[A\u001b[A\u001b[A\n",
            "\n",
            "\n",
            " 25%|██▌       | 10/40 [01:06<03:17,  6.58s/it]\u001b[A\u001b[A\u001b[A\n",
            "\n",
            "\n",
            " 28%|██▊       | 11/40 [01:15<03:25,  7.09s/it]\u001b[A\u001b[A\u001b[A\n",
            "\n",
            "\n",
            " 30%|███       | 12/40 [01:26<03:52,  8.32s/it]\u001b[A\u001b[A\u001b[A\n",
            "\n",
            "\n",
            " 32%|███▎      | 13/40 [01:32<03:29,  7.76s/it]\u001b[A\u001b[A\u001b[A\n",
            "\n",
            "\n",
            " 35%|███▌      | 14/40 [01:39<03:11,  7.38s/it]\u001b[A\u001b[A\u001b[A\n",
            "\n",
            "\n",
            " 38%|███▊      | 15/40 [01:45<02:58,  7.14s/it]\u001b[A\u001b[A\u001b[A\n",
            "\n",
            "\n",
            " 40%|████      | 16/40 [01:52<02:47,  6.96s/it]\u001b[A\u001b[A\u001b[A\n",
            "\n",
            "\n",
            " 42%|████▎     | 17/40 [01:58<02:36,  6.83s/it]\u001b[A\u001b[A\u001b[A\n",
            "\n",
            "\n",
            " 45%|████▌     | 18/40 [02:05<02:28,  6.73s/it]\u001b[A\u001b[A\u001b[A\n",
            "\n",
            "\n",
            " 48%|████▊     | 19/40 [02:11<02:19,  6.66s/it]\u001b[A\u001b[A\u001b[A\n",
            "\n",
            "\n",
            " 50%|█████     | 20/40 [02:18<02:12,  6.61s/it]\u001b[A\u001b[A\u001b[A\n",
            "\n",
            "\n",
            " 52%|█████▎    | 21/40 [02:24<02:04,  6.57s/it]\u001b[A\u001b[A\u001b[A\n",
            "\n",
            "\n",
            " 55%|█████▌    | 22/40 [02:31<01:58,  6.56s/it]\u001b[A\u001b[A\u001b[A\n",
            "\n",
            "\n",
            " 57%|█████▊    | 23/40 [02:38<01:52,  6.61s/it]\u001b[A\u001b[A\u001b[A\n",
            "\n",
            "\n",
            " 60%|██████    | 24/40 [02:44<01:45,  6.57s/it]\u001b[A\u001b[A\u001b[A\n",
            "\n",
            "\n",
            " 62%|██████▎   | 25/40 [02:51<01:38,  6.54s/it]\u001b[A\u001b[A\u001b[A\n",
            "\n",
            "\n",
            " 65%|██████▌   | 26/40 [02:57<01:31,  6.52s/it]\u001b[A\u001b[A\u001b[A\n",
            "\n",
            "\n",
            " 68%|██████▊   | 27/40 [03:04<01:24,  6.52s/it]\u001b[A\u001b[A\u001b[A\n",
            "\n",
            "\n",
            " 70%|███████   | 28/40 [03:10<01:17,  6.50s/it]\u001b[A\u001b[A\u001b[A\n",
            "\n",
            "\n",
            " 72%|███████▎  | 29/40 [03:17<01:11,  6.50s/it]\u001b[A\u001b[A\u001b[A\n",
            "\n",
            "\n",
            " 75%|███████▌  | 30/40 [03:23<01:05,  6.50s/it]\u001b[A\u001b[A\u001b[A\n",
            "\n",
            "\n",
            " 78%|███████▊  | 31/40 [03:30<00:58,  6.53s/it]\u001b[A\u001b[A\u001b[A\n",
            "\n",
            "\n",
            " 80%|████████  | 32/40 [03:36<00:52,  6.51s/it]\u001b[A\u001b[A\u001b[A\n",
            "\n",
            "\n",
            " 82%|████████▎ | 33/40 [03:43<00:45,  6.49s/it]\u001b[A\u001b[A\u001b[A\n",
            "\n",
            "\n",
            " 85%|████████▌ | 34/40 [03:49<00:39,  6.56s/it]\u001b[A\u001b[A\u001b[A\n",
            "\n",
            "\n",
            " 88%|████████▊ | 35/40 [03:56<00:33,  6.71s/it]\u001b[A\u001b[A\u001b[A\n",
            "\n",
            "\n",
            " 90%|█████████ | 36/40 [04:03<00:26,  6.72s/it]\u001b[A\u001b[A\u001b[A\n",
            "\n",
            "\n",
            " 92%|█████████▎| 37/40 [04:10<00:19,  6.64s/it]\u001b[A\u001b[A\u001b[A\n",
            "\n",
            "\n",
            " 95%|█████████▌| 38/40 [04:16<00:13,  6.57s/it]\u001b[A\u001b[A\u001b[A\n",
            "\n",
            "\n",
            " 98%|█████████▊| 39/40 [04:22<00:06,  6.53s/it]\u001b[A\u001b[A\u001b[A\n",
            "\n",
            "\n",
            "100%|██████████| 40/40 [04:29<00:00,  6.73s/it]\n"
          ],
          "name": "stderr"
        },
        {
          "output_type": "stream",
          "text": [
            "(40, 32, 10, 8064)\n"
          ],
          "name": "stdout"
        },
        {
          "output_type": "stream",
          "text": [
            "\n",
            "\n",
            " 22%|██▏       | 2/9 [09:22<33:01, 283.07s/it]\u001b[A\u001b[A"
          ],
          "name": "stderr"
        },
        {
          "output_type": "stream",
          "text": [
            "/content/drive/My Drive/Colab Notebooks/data/data_sub/h5/s25.h5\n"
          ],
          "name": "stdout"
        },
        {
          "output_type": "stream",
          "text": [
            "\n",
            "\n",
            "\n",
            "  0%|          | 0/40 [00:00<?, ?it/s]\u001b[A\u001b[A\u001b[A"
          ],
          "name": "stderr"
        },
        {
          "output_type": "stream",
          "text": [
            "/content/drive/My Drive/Colab Notebooks/data/32/data_files/s26.dat\n",
            "(40, 32, 8064)\n"
          ],
          "name": "stdout"
        },
        {
          "output_type": "stream",
          "text": [
            "\n",
            "\n",
            "\n",
            "  2%|▎         | 1/40 [00:06<04:11,  6.44s/it]\u001b[A\u001b[A\u001b[A\n",
            "\n",
            "\n",
            "  5%|▌         | 2/40 [00:13<04:14,  6.69s/it]\u001b[A\u001b[A\u001b[A\n",
            "\n",
            "\n",
            "  8%|▊         | 3/40 [00:20<04:14,  6.87s/it]\u001b[A\u001b[A\u001b[A\n",
            "\n",
            "\n",
            " 10%|█         | 4/40 [00:27<04:02,  6.73s/it]\u001b[A\u001b[A\u001b[A\n",
            "\n",
            "\n",
            " 12%|█▎        | 5/40 [00:33<03:52,  6.63s/it]\u001b[A\u001b[A\u001b[A\n",
            "\n",
            "\n",
            " 15%|█▌        | 6/40 [00:40<03:42,  6.55s/it]\u001b[A\u001b[A\u001b[A\n",
            "\n",
            "\n",
            " 18%|█▊        | 7/40 [00:46<03:34,  6.50s/it]\u001b[A\u001b[A\u001b[A\n",
            "\n",
            "\n",
            " 20%|██        | 8/40 [00:52<03:26,  6.46s/it]\u001b[A\u001b[A\u001b[A\n",
            "\n",
            "\n",
            " 22%|██▎       | 9/40 [00:59<03:19,  6.44s/it]\u001b[A\u001b[A\u001b[A\n",
            "\n",
            "\n",
            " 25%|██▌       | 10/40 [01:05<03:12,  6.43s/it]\u001b[A\u001b[A\u001b[A\n",
            "\n",
            "\n",
            " 28%|██▊       | 11/40 [01:12<03:07,  6.45s/it]\u001b[A\u001b[A\u001b[A\n",
            "\n",
            "\n",
            " 30%|███       | 12/40 [01:18<03:00,  6.45s/it]\u001b[A\u001b[A\u001b[A\n",
            "\n",
            "\n",
            " 32%|███▎      | 13/40 [01:25<02:56,  6.53s/it]\u001b[A\u001b[A\u001b[A\n",
            "\n",
            "\n",
            " 35%|███▌      | 14/40 [01:32<02:51,  6.60s/it]\u001b[A\u001b[A\u001b[A\n",
            "\n",
            "\n",
            " 38%|███▊      | 15/40 [01:38<02:44,  6.57s/it]\u001b[A\u001b[A\u001b[A\n",
            "\n",
            "\n",
            " 40%|████      | 16/40 [01:45<02:37,  6.57s/it]\u001b[A\u001b[A\u001b[A\n",
            "\n",
            "\n",
            " 42%|████▎     | 17/40 [01:51<02:32,  6.62s/it]\u001b[A\u001b[A\u001b[A\n",
            "\n",
            "\n",
            " 45%|████▌     | 18/40 [01:58<02:25,  6.60s/it]\u001b[A\u001b[A\u001b[A\n",
            "\n",
            "\n",
            " 48%|████▊     | 19/40 [02:05<02:20,  6.67s/it]\u001b[A\u001b[A\u001b[A\n",
            "\n",
            "\n",
            " 50%|█████     | 20/40 [02:12<02:13,  6.69s/it]\u001b[A\u001b[A\u001b[A\n",
            "\n",
            "\n",
            " 52%|█████▎    | 21/40 [02:18<02:06,  6.67s/it]\u001b[A\u001b[A\u001b[A\n",
            "\n",
            "\n",
            " 55%|█████▌    | 22/40 [02:25<01:59,  6.65s/it]\u001b[A\u001b[A\u001b[A\n",
            "\n",
            "\n",
            " 57%|█████▊    | 23/40 [02:31<01:52,  6.63s/it]\u001b[A\u001b[A\u001b[A\n",
            "\n",
            "\n",
            " 60%|██████    | 24/40 [02:38<01:45,  6.61s/it]\u001b[A\u001b[A\u001b[A\n",
            "\n",
            "\n",
            " 62%|██████▎   | 25/40 [02:44<01:38,  6.58s/it]\u001b[A\u001b[A\u001b[A\n",
            "\n",
            "\n",
            " 65%|██████▌   | 26/40 [02:51<01:32,  6.59s/it]\u001b[A\u001b[A\u001b[A\n",
            "\n",
            "\n",
            " 68%|██████▊   | 27/40 [02:58<01:25,  6.58s/it]\u001b[A\u001b[A\u001b[A\n",
            "\n",
            "\n",
            " 70%|███████   | 28/40 [03:04<01:19,  6.59s/it]\u001b[A\u001b[A\u001b[A\n",
            "\n",
            "\n",
            " 72%|███████▎  | 29/40 [03:11<01:12,  6.58s/it]\u001b[A\u001b[A\u001b[A\n",
            "\n",
            "\n",
            " 75%|███████▌  | 30/40 [03:17<01:05,  6.55s/it]\u001b[A\u001b[A\u001b[A\n",
            "\n",
            "\n",
            " 78%|███████▊  | 31/40 [03:24<00:59,  6.60s/it]\u001b[A\u001b[A\u001b[A\n",
            "\n",
            "\n",
            " 80%|████████  | 32/40 [03:31<00:53,  6.67s/it]\u001b[A\u001b[A\u001b[A\n",
            "\n",
            "\n",
            " 82%|████████▎ | 33/40 [03:38<00:46,  6.70s/it]\u001b[A\u001b[A\u001b[A\n",
            "\n",
            "\n",
            " 85%|████████▌ | 34/40 [03:44<00:40,  6.75s/it]\u001b[A\u001b[A\u001b[A\n",
            "\n",
            "\n",
            " 88%|████████▊ | 35/40 [03:51<00:33,  6.69s/it]\u001b[A\u001b[A\u001b[A\n",
            "\n",
            "\n",
            " 90%|█████████ | 36/40 [03:58<00:26,  6.64s/it]\u001b[A\u001b[A\u001b[A\n",
            "\n",
            "\n",
            " 92%|█████████▎| 37/40 [04:04<00:19,  6.60s/it]\u001b[A\u001b[A\u001b[A\n",
            "\n",
            "\n",
            " 95%|█████████▌| 38/40 [04:11<00:13,  6.58s/it]\u001b[A\u001b[A\u001b[A\n",
            "\n",
            "\n",
            " 98%|█████████▊| 39/40 [04:17<00:06,  6.59s/it]\u001b[A\u001b[A\u001b[A\n",
            "\n",
            "\n",
            "100%|██████████| 40/40 [04:24<00:00,  6.62s/it]\n",
            "\n",
            "\n",
            " 33%|███▎      | 3/9 [13:53<27:57, 279.53s/it]\u001b[A\u001b[A"
          ],
          "name": "stderr"
        },
        {
          "output_type": "stream",
          "text": [
            "(40, 32, 10, 8064)\n",
            "/content/drive/My Drive/Colab Notebooks/data/data_sub/h5/s26.h5\n"
          ],
          "name": "stdout"
        },
        {
          "output_type": "stream",
          "text": [
            "\n",
            "\n",
            "\n",
            "  0%|          | 0/40 [00:00<?, ?it/s]\u001b[A\u001b[A\u001b[A"
          ],
          "name": "stderr"
        },
        {
          "output_type": "stream",
          "text": [
            "/content/drive/My Drive/Colab Notebooks/data/32/data_files/s27.dat\n",
            "(40, 32, 8064)\n"
          ],
          "name": "stdout"
        },
        {
          "output_type": "stream",
          "text": [
            "\n",
            "\n",
            "\n",
            "  2%|▎         | 1/40 [00:06<04:15,  6.55s/it]\u001b[A\u001b[A\u001b[A\n",
            "\n",
            "\n",
            "  5%|▌         | 2/40 [00:14<04:24,  6.95s/it]\u001b[A\u001b[A\u001b[A\n",
            "\n",
            "\n",
            "  8%|▊         | 3/40 [00:22<04:29,  7.28s/it]\u001b[A\u001b[A\u001b[A\n",
            "\n",
            "\n",
            " 10%|█         | 4/40 [00:28<04:13,  7.03s/it]\u001b[A\u001b[A\u001b[A\n",
            "\n",
            "\n",
            " 12%|█▎        | 5/40 [00:35<04:01,  6.89s/it]\u001b[A\u001b[A\u001b[A\n",
            "\n",
            "\n",
            " 15%|█▌        | 6/40 [00:42<03:51,  6.80s/it]\u001b[A\u001b[A\u001b[A\n",
            "\n",
            "\n",
            " 18%|█▊        | 7/40 [00:48<03:42,  6.75s/it]\u001b[A\u001b[A\u001b[A\n",
            "\n",
            "\n",
            " 20%|██        | 8/40 [00:55<03:37,  6.80s/it]\u001b[A\u001b[A\u001b[A\n",
            "\n",
            "\n",
            " 22%|██▎       | 9/40 [01:02<03:30,  6.80s/it]\u001b[A\u001b[A\u001b[A\n",
            "\n",
            "\n",
            " 25%|██▌       | 10/40 [01:09<03:24,  6.82s/it]\u001b[A\u001b[A\u001b[A\n",
            "\n",
            "\n",
            " 28%|██▊       | 11/40 [01:15<03:15,  6.75s/it]\u001b[A\u001b[A\u001b[A\n",
            "\n",
            "\n",
            " 30%|███       | 12/40 [01:22<03:07,  6.71s/it]\u001b[A\u001b[A\u001b[A\n",
            "\n",
            "\n",
            " 32%|███▎      | 13/40 [01:29<02:59,  6.66s/it]\u001b[A\u001b[A\u001b[A\n",
            "\n",
            "\n",
            " 35%|███▌      | 14/40 [01:35<02:55,  6.74s/it]\u001b[A\u001b[A\u001b[A\n",
            "\n",
            "\n",
            " 38%|███▊      | 15/40 [01:42<02:47,  6.69s/it]\u001b[A\u001b[A\u001b[A\n",
            "\n",
            "\n",
            " 40%|████      | 16/40 [01:49<02:39,  6.64s/it]\u001b[A\u001b[A\u001b[A\n",
            "\n",
            "\n",
            " 42%|████▎     | 17/40 [01:55<02:31,  6.58s/it]\u001b[A\u001b[A\u001b[A\n",
            "\n",
            "\n",
            " 45%|████▌     | 18/40 [02:02<02:24,  6.56s/it]\u001b[A\u001b[A\u001b[A\n",
            "\n",
            "\n",
            " 48%|████▊     | 19/40 [02:08<02:20,  6.69s/it]\u001b[A\u001b[A\u001b[A\n",
            "\n",
            "\n",
            " 50%|█████     | 20/40 [02:15<02:14,  6.74s/it]\u001b[A\u001b[A\u001b[A\n",
            "\n",
            "\n",
            " 52%|█████▎    | 21/40 [02:23<02:13,  7.01s/it]\u001b[A\u001b[A\u001b[A\n",
            "\n",
            "\n",
            " 55%|█████▌    | 22/40 [02:30<02:08,  7.15s/it]\u001b[A\u001b[A\u001b[A\n",
            "\n",
            "\n",
            " 57%|█████▊    | 23/40 [02:37<01:57,  6.94s/it]\u001b[A\u001b[A\u001b[A\n",
            "\n",
            "\n",
            " 60%|██████    | 24/40 [02:43<01:48,  6.78s/it]\u001b[A\u001b[A\u001b[A\n",
            "\n",
            "\n",
            " 62%|██████▎   | 25/40 [02:50<01:39,  6.63s/it]\u001b[A\u001b[A\u001b[A\n",
            "\n",
            "\n",
            " 65%|██████▌   | 26/40 [02:56<01:33,  6.66s/it]\u001b[A\u001b[A\u001b[A\n",
            "\n",
            "\n",
            " 68%|██████▊   | 27/40 [03:03<01:26,  6.69s/it]\u001b[A\u001b[A\u001b[A\n",
            "\n",
            "\n",
            " 70%|███████   | 28/40 [03:10<01:19,  6.63s/it]\u001b[A\u001b[A\u001b[A\n",
            "\n",
            "\n",
            " 72%|███████▎  | 29/40 [03:16<01:13,  6.67s/it]\u001b[A\u001b[A\u001b[A\n",
            "\n",
            "\n",
            " 75%|███████▌  | 30/40 [03:23<01:06,  6.65s/it]\u001b[A\u001b[A\u001b[A\n",
            "\n",
            "\n",
            " 78%|███████▊  | 31/40 [03:29<00:58,  6.55s/it]\u001b[A\u001b[A\u001b[A\n",
            "\n",
            "\n",
            " 80%|████████  | 32/40 [03:36<00:52,  6.53s/it]\u001b[A\u001b[A\u001b[A\n",
            "\n",
            "\n",
            " 82%|████████▎ | 33/40 [03:42<00:45,  6.54s/it]\u001b[A\u001b[A\u001b[A\n",
            "\n",
            "\n",
            " 85%|████████▌ | 34/40 [03:49<00:39,  6.50s/it]\u001b[A\u001b[A\u001b[A\n",
            "\n",
            "\n",
            " 88%|████████▊ | 35/40 [03:55<00:32,  6.47s/it]\u001b[A\u001b[A\u001b[A\n",
            "\n",
            "\n",
            " 90%|█████████ | 36/40 [04:02<00:25,  6.44s/it]\u001b[A\u001b[A\u001b[A\n",
            "\n",
            "\n",
            " 92%|█████████▎| 37/40 [04:08<00:19,  6.45s/it]\u001b[A\u001b[A\u001b[A\n",
            "\n",
            "\n",
            " 95%|█████████▌| 38/40 [04:14<00:12,  6.45s/it]\u001b[A\u001b[A\u001b[A\n",
            "\n",
            "\n",
            " 98%|█████████▊| 39/40 [04:21<00:06,  6.42s/it]\u001b[A\u001b[A\u001b[A\n",
            "\n",
            "\n",
            "100%|██████████| 40/40 [04:27<00:00,  6.69s/it]\n",
            "\n",
            "\n",
            " 44%|████▍     | 4/9 [18:25<23:07, 277.46s/it]\u001b[A\u001b[A"
          ],
          "name": "stderr"
        },
        {
          "output_type": "stream",
          "text": [
            "(40, 32, 10, 8064)\n",
            "/content/drive/My Drive/Colab Notebooks/data/data_sub/h5/s27.h5\n"
          ],
          "name": "stdout"
        },
        {
          "output_type": "stream",
          "text": [
            "\n",
            "\n",
            "\n",
            "  0%|          | 0/40 [00:00<?, ?it/s]\u001b[A\u001b[A\u001b[A"
          ],
          "name": "stderr"
        },
        {
          "output_type": "stream",
          "text": [
            "/content/drive/My Drive/Colab Notebooks/data/32/data_files/s28.dat\n",
            "(40, 32, 8064)\n"
          ],
          "name": "stdout"
        },
        {
          "output_type": "stream",
          "text": [
            "\n",
            "\n",
            "\n",
            "  2%|▎         | 1/40 [00:07<04:40,  7.20s/it]\u001b[A\u001b[A\u001b[A\n",
            "\n",
            "\n",
            "  5%|▌         | 2/40 [00:15<04:46,  7.53s/it]\u001b[A\u001b[A\u001b[A\n",
            "\n",
            "\n",
            "  8%|▊         | 3/40 [00:22<04:34,  7.41s/it]\u001b[A\u001b[A\u001b[A\n",
            "\n",
            "\n",
            " 10%|█         | 4/40 [00:30<04:27,  7.42s/it]\u001b[A\u001b[A\u001b[A\n",
            "\n",
            "\n",
            " 12%|█▎        | 5/40 [00:37<04:15,  7.29s/it]\u001b[A\u001b[A\u001b[A\n",
            "\n",
            "\n",
            " 15%|█▌        | 6/40 [00:44<04:07,  7.28s/it]\u001b[A\u001b[A\u001b[A\n",
            "\n",
            "\n",
            " 18%|█▊        | 7/40 [00:51<03:58,  7.22s/it]\u001b[A\u001b[A\u001b[A\n",
            "\n",
            "\n",
            " 20%|██        | 8/40 [00:58<03:49,  7.16s/it]\u001b[A\u001b[A\u001b[A\n",
            "\n",
            "\n",
            " 22%|██▎       | 9/40 [01:05<03:43,  7.19s/it]\u001b[A\u001b[A\u001b[A\n",
            "\n",
            "\n",
            " 25%|██▌       | 10/40 [01:12<03:34,  7.16s/it]\u001b[A\u001b[A\u001b[A\n",
            "\n",
            "\n",
            " 28%|██▊       | 11/40 [01:19<03:25,  7.10s/it]\u001b[A\u001b[A\u001b[A\n",
            "\n",
            "\n",
            " 30%|███       | 12/40 [01:26<03:16,  7.02s/it]\u001b[A\u001b[A\u001b[A\n",
            "\n",
            "\n",
            " 32%|███▎      | 13/40 [01:33<03:08,  6.98s/it]\u001b[A\u001b[A\u001b[A\n",
            "\n",
            "\n",
            " 35%|███▌      | 14/40 [01:40<03:01,  6.98s/it]\u001b[A\u001b[A\u001b[A\n",
            "\n",
            "\n",
            " 38%|███▊      | 15/40 [01:47<02:54,  6.99s/it]\u001b[A\u001b[A\u001b[A\n",
            "\n",
            "\n",
            " 40%|████      | 16/40 [01:54<02:46,  6.94s/it]\u001b[A\u001b[A\u001b[A\n",
            "\n",
            "\n",
            " 42%|████▎     | 17/40 [02:01<02:39,  6.93s/it]\u001b[A\u001b[A\u001b[A\n",
            "\n",
            "\n",
            " 45%|████▌     | 18/40 [02:08<02:31,  6.90s/it]\u001b[A\u001b[A\u001b[A\n",
            "\n",
            "\n",
            " 48%|████▊     | 19/40 [02:14<02:24,  6.89s/it]\u001b[A\u001b[A\u001b[A\n",
            "\n",
            "\n",
            " 50%|█████     | 20/40 [02:21<02:17,  6.89s/it]\u001b[A\u001b[A\u001b[A\n",
            "\n",
            "\n",
            " 52%|█████▎    | 21/40 [02:28<02:11,  6.93s/it]\u001b[A\u001b[A\u001b[A\n",
            "\n",
            "\n",
            " 55%|█████▌    | 22/40 [02:35<02:03,  6.88s/it]\u001b[A\u001b[A\u001b[A\n",
            "\n",
            "\n",
            " 57%|█████▊    | 23/40 [02:42<01:56,  6.87s/it]\u001b[A\u001b[A\u001b[A\n",
            "\n",
            "\n",
            " 60%|██████    | 24/40 [02:49<01:52,  7.03s/it]\u001b[A\u001b[A\u001b[A\n",
            "\n",
            "\n",
            " 62%|██████▎   | 25/40 [02:56<01:44,  6.95s/it]\u001b[A\u001b[A\u001b[A\n",
            "\n",
            "\n",
            " 65%|██████▌   | 26/40 [03:03<01:36,  6.91s/it]\u001b[A\u001b[A\u001b[A\n",
            "\n",
            "\n",
            " 68%|██████▊   | 27/40 [03:10<01:29,  6.88s/it]\u001b[A\u001b[A\u001b[A\n",
            "\n",
            "\n",
            " 70%|███████   | 28/40 [03:16<01:22,  6.85s/it]\u001b[A\u001b[A\u001b[A\n",
            "\n",
            "\n",
            " 72%|███████▎  | 29/40 [03:23<01:15,  6.83s/it]\u001b[A\u001b[A\u001b[A\n",
            "\n",
            "\n",
            " 75%|███████▌  | 30/40 [03:30<01:08,  6.81s/it]\u001b[A\u001b[A\u001b[A\n",
            "\n",
            "\n",
            " 78%|███████▊  | 31/40 [03:37<01:01,  6.80s/it]\u001b[A\u001b[A\u001b[A\n",
            "\n",
            "\n",
            " 80%|████████  | 32/40 [03:44<00:54,  6.79s/it]\u001b[A\u001b[A\u001b[A\n",
            "\n",
            "\n",
            " 82%|████████▎ | 33/40 [03:50<00:47,  6.78s/it]\u001b[A\u001b[A\u001b[A\n",
            "\n",
            "\n",
            " 85%|████████▌ | 34/40 [03:57<00:40,  6.79s/it]\u001b[A\u001b[A\u001b[A\n",
            "\n",
            "\n",
            " 88%|████████▊ | 35/40 [04:04<00:33,  6.79s/it]\u001b[A\u001b[A\u001b[A\n",
            "\n",
            "\n",
            " 90%|█████████ | 36/40 [04:11<00:27,  6.79s/it]\u001b[A\u001b[A\u001b[A\n",
            "\n",
            "\n",
            " 92%|█████████▎| 37/40 [04:18<00:20,  6.79s/it]\u001b[A\u001b[A\u001b[A\n",
            "\n",
            "\n",
            " 95%|█████████▌| 38/40 [04:24<00:13,  6.79s/it]\u001b[A\u001b[A\u001b[A\n",
            "\n",
            "\n",
            " 98%|█████████▊| 39/40 [04:31<00:06,  6.79s/it]\u001b[A\u001b[A\u001b[A\n",
            "\n",
            "\n",
            "100%|██████████| 40/40 [04:38<00:00,  6.96s/it]\n"
          ],
          "name": "stderr"
        },
        {
          "output_type": "stream",
          "text": [
            "(40, 32, 10, 8064)\n"
          ],
          "name": "stdout"
        },
        {
          "output_type": "stream",
          "text": [
            "\n",
            "\n",
            " 56%|█████▌    | 5/9 [23:09<18:36, 279.23s/it]\u001b[A\u001b[A\n",
            "\n",
            "\n",
            "  0%|          | 0/40 [00:00<?, ?it/s]\u001b[A\u001b[A\u001b[A"
          ],
          "name": "stderr"
        },
        {
          "output_type": "stream",
          "text": [
            "/content/drive/My Drive/Colab Notebooks/data/data_sub/h5/s28.h5\n",
            "/content/drive/My Drive/Colab Notebooks/data/32/data_files/s29.dat\n",
            "(40, 32, 8064)\n"
          ],
          "name": "stdout"
        },
        {
          "output_type": "stream",
          "text": [
            "\n",
            "\n",
            "\n",
            "  2%|▎         | 1/40 [00:07<04:36,  7.09s/it]\u001b[A\u001b[A\u001b[A\n",
            "\n",
            "\n",
            "  5%|▌         | 2/40 [00:14<04:37,  7.31s/it]\u001b[A\u001b[A\u001b[A\n",
            "\n",
            "\n",
            "  8%|▊         | 3/40 [00:21<04:20,  7.05s/it]\u001b[A\u001b[A\u001b[A\n",
            "\n",
            "\n",
            " 10%|█         | 4/40 [00:27<04:07,  6.86s/it]\u001b[A\u001b[A\u001b[A\n",
            "\n",
            "\n",
            " 12%|█▎        | 5/40 [00:34<03:56,  6.74s/it]\u001b[A\u001b[A\u001b[A\n",
            "\n",
            "\n",
            " 15%|█▌        | 6/40 [00:40<03:45,  6.64s/it]\u001b[A\u001b[A\u001b[A\n",
            "\n",
            "\n",
            " 18%|█▊        | 7/40 [00:47<03:37,  6.58s/it]\u001b[A\u001b[A\u001b[A\n",
            "\n",
            "\n",
            " 20%|██        | 8/40 [00:54<03:34,  6.70s/it]\u001b[A\u001b[A\u001b[A\n",
            "\n",
            "\n",
            " 22%|██▎       | 9/40 [01:00<03:25,  6.64s/it]\u001b[A\u001b[A\u001b[A\n",
            "\n",
            "\n",
            " 25%|██▌       | 10/40 [01:06<03:17,  6.57s/it]\u001b[A\u001b[A\u001b[A\n",
            "\n",
            "\n",
            " 28%|██▊       | 11/40 [01:13<03:09,  6.52s/it]\u001b[A\u001b[A\u001b[A\n",
            "\n",
            "\n",
            " 30%|███       | 12/40 [01:19<03:01,  6.48s/it]\u001b[A\u001b[A\u001b[A\n",
            "\n",
            "\n",
            " 32%|███▎      | 13/40 [01:26<02:53,  6.43s/it]\u001b[A\u001b[A\u001b[A\n",
            "\n",
            "\n",
            " 35%|███▌      | 14/40 [01:32<02:47,  6.43s/it]\u001b[A\u001b[A\u001b[A\n",
            "\n",
            "\n",
            " 38%|███▊      | 15/40 [01:39<02:41,  6.45s/it]\u001b[A\u001b[A\u001b[A\n",
            "\n",
            "\n",
            " 40%|████      | 16/40 [01:45<02:35,  6.48s/it]\u001b[A\u001b[A\u001b[A\n",
            "\n",
            "\n",
            " 42%|████▎     | 17/40 [01:52<02:29,  6.51s/it]\u001b[A\u001b[A\u001b[A\n",
            "\n",
            "\n",
            " 45%|████▌     | 18/40 [01:58<02:22,  6.49s/it]\u001b[A\u001b[A\u001b[A\n",
            "\n",
            "\n",
            " 48%|████▊     | 19/40 [02:05<02:15,  6.47s/it]\u001b[A\u001b[A\u001b[A\n",
            "\n",
            "\n",
            " 50%|█████     | 20/40 [02:11<02:09,  6.47s/it]\u001b[A\u001b[A\u001b[A\n",
            "\n",
            "\n",
            " 52%|█████▎    | 21/40 [02:17<02:02,  6.46s/it]\u001b[A\u001b[A\u001b[A\n",
            "\n",
            "\n",
            " 55%|█████▌    | 22/40 [02:24<01:56,  6.45s/it]\u001b[A\u001b[A\u001b[A\n",
            "\n",
            "\n",
            " 57%|█████▊    | 23/40 [02:30<01:50,  6.51s/it]\u001b[A\u001b[A\u001b[A\n",
            "\n",
            "\n",
            " 60%|██████    | 24/40 [02:37<01:44,  6.52s/it]\u001b[A\u001b[A\u001b[A\n",
            "\n",
            "\n",
            " 62%|██████▎   | 25/40 [02:43<01:37,  6.49s/it]\u001b[A\u001b[A\u001b[A\n",
            "\n",
            "\n",
            " 65%|██████▌   | 26/40 [02:50<01:31,  6.51s/it]\u001b[A\u001b[A\u001b[A\n",
            "\n",
            "\n",
            " 68%|██████▊   | 27/40 [02:57<01:25,  6.55s/it]\u001b[A\u001b[A\u001b[A\n",
            "\n",
            "\n",
            " 70%|███████   | 28/40 [03:03<01:19,  6.61s/it]\u001b[A\u001b[A\u001b[A\n",
            "\n",
            "\n",
            " 72%|███████▎  | 29/40 [03:11<01:14,  6.81s/it]\u001b[A\u001b[A\u001b[A\n",
            "\n",
            "\n",
            " 75%|███████▌  | 30/40 [03:18<01:08,  6.81s/it]\u001b[A\u001b[A\u001b[A\n",
            "\n",
            "\n",
            " 78%|███████▊  | 31/40 [03:24<01:00,  6.74s/it]\u001b[A\u001b[A\u001b[A\n",
            "\n",
            "\n",
            " 80%|████████  | 32/40 [03:31<00:53,  6.65s/it]\u001b[A\u001b[A\u001b[A\n",
            "\n",
            "\n",
            " 82%|████████▎ | 33/40 [03:37<00:46,  6.67s/it]\u001b[A\u001b[A\u001b[A\n",
            "\n",
            "\n",
            " 85%|████████▌ | 34/40 [03:44<00:40,  6.73s/it]\u001b[A\u001b[A\u001b[A\n",
            "\n",
            "\n",
            " 88%|████████▊ | 35/40 [03:51<00:34,  6.85s/it]\u001b[A\u001b[A\u001b[A\n",
            "\n",
            "\n",
            " 90%|█████████ | 36/40 [03:58<00:27,  6.83s/it]\u001b[A\u001b[A\u001b[A\n",
            "\n",
            "\n",
            " 92%|█████████▎| 37/40 [04:05<00:20,  6.75s/it]\u001b[A\u001b[A\u001b[A\n",
            "\n",
            "\n",
            " 95%|█████████▌| 38/40 [04:11<00:13,  6.73s/it]\u001b[A\u001b[A\u001b[A\n",
            "\n",
            "\n",
            " 98%|█████████▊| 39/40 [04:18<00:06,  6.69s/it]\u001b[A\u001b[A\u001b[A\n",
            "\n",
            "\n",
            "100%|██████████| 40/40 [04:25<00:00,  6.63s/it]\n"
          ],
          "name": "stderr"
        },
        {
          "output_type": "stream",
          "text": [
            "(40, 32, 10, 8064)\n"
          ],
          "name": "stdout"
        },
        {
          "output_type": "stream",
          "text": [
            "\n",
            "\n",
            " 67%|██████▋   | 6/9 [27:41<13:51, 277.00s/it]\u001b[A\u001b[A\n",
            "\n",
            "\n",
            "  0%|          | 0/40 [00:00<?, ?it/s]\u001b[A\u001b[A\u001b[A"
          ],
          "name": "stderr"
        },
        {
          "output_type": "stream",
          "text": [
            "/content/drive/My Drive/Colab Notebooks/data/data_sub/h5/s29.h5\n",
            "/content/drive/My Drive/Colab Notebooks/data/32/data_files/s30.dat\n",
            "(40, 32, 8064)\n"
          ],
          "name": "stdout"
        },
        {
          "output_type": "stream",
          "text": [
            "\n",
            "\n",
            "\n",
            "  2%|▎         | 1/40 [00:07<05:08,  7.92s/it]\u001b[A\u001b[A\u001b[A\n",
            "\n",
            "\n",
            "  5%|▌         | 2/40 [00:16<05:05,  8.05s/it]\u001b[A\u001b[A\u001b[A\n",
            "\n",
            "\n",
            "  8%|▊         | 3/40 [00:25<05:12,  8.44s/it]\u001b[A\u001b[A\u001b[A\n",
            "\n",
            "\n",
            " 10%|█         | 4/40 [00:32<04:51,  8.11s/it]\u001b[A\u001b[A\u001b[A\n",
            "\n",
            "\n",
            " 12%|█▎        | 5/40 [00:39<04:31,  7.76s/it]\u001b[A\u001b[A\u001b[A\n",
            "\n",
            "\n",
            " 15%|█▌        | 6/40 [00:46<04:15,  7.52s/it]\u001b[A\u001b[A\u001b[A\n",
            "\n",
            "\n",
            " 18%|█▊        | 7/40 [00:53<04:01,  7.33s/it]\u001b[A\u001b[A\u001b[A\n",
            "\n",
            "\n",
            " 20%|██        | 8/40 [01:00<03:49,  7.18s/it]\u001b[A\u001b[A\u001b[A\n",
            "\n",
            "\n",
            " 22%|██▎       | 9/40 [01:07<03:40,  7.11s/it]\u001b[A\u001b[A\u001b[A\n",
            "\n",
            "\n",
            " 25%|██▌       | 10/40 [01:14<03:33,  7.11s/it]\u001b[A\u001b[A\u001b[A\n",
            "\n",
            "\n",
            " 28%|██▊       | 11/40 [01:22<03:30,  7.26s/it]\u001b[A\u001b[A\u001b[A\n",
            "\n",
            "\n",
            " 30%|███       | 12/40 [01:29<03:22,  7.24s/it]\u001b[A\u001b[A\u001b[A\n",
            "\n",
            "\n",
            " 32%|███▎      | 13/40 [01:36<03:13,  7.16s/it]\u001b[A\u001b[A\u001b[A\n",
            "\n",
            "\n",
            " 35%|███▌      | 14/40 [01:43<03:04,  7.09s/it]\u001b[A\u001b[A\u001b[A\n",
            "\n",
            "\n",
            " 38%|███▊      | 15/40 [01:50<02:57,  7.11s/it]\u001b[A\u001b[A\u001b[A\n",
            "\n",
            "\n",
            " 40%|████      | 16/40 [01:57<02:50,  7.11s/it]\u001b[A\u001b[A\u001b[A\n",
            "\n",
            "\n",
            " 42%|████▎     | 17/40 [02:04<02:45,  7.18s/it]\u001b[A\u001b[A\u001b[A\n",
            "\n",
            "\n",
            " 45%|████▌     | 18/40 [02:11<02:37,  7.14s/it]\u001b[A\u001b[A\u001b[A\n",
            "\n",
            "\n",
            " 48%|████▊     | 19/40 [02:19<02:31,  7.22s/it]\u001b[A\u001b[A\u001b[A\n",
            "\n",
            "\n",
            " 50%|█████     | 20/40 [02:26<02:22,  7.11s/it]\u001b[A\u001b[A\u001b[A\n",
            "\n",
            "\n",
            " 52%|█████▎    | 21/40 [02:33<02:13,  7.05s/it]\u001b[A\u001b[A\u001b[A\n",
            "\n",
            "\n",
            " 55%|█████▌    | 22/40 [02:40<02:10,  7.26s/it]\u001b[A\u001b[A\u001b[A\n",
            "\n",
            "\n",
            " 57%|█████▊    | 23/40 [02:47<02:02,  7.18s/it]\u001b[A\u001b[A\u001b[A\n",
            "\n",
            "\n",
            " 60%|██████    | 24/40 [02:54<01:53,  7.12s/it]\u001b[A\u001b[A\u001b[A\n",
            "\n",
            "\n",
            " 62%|██████▎   | 25/40 [03:01<01:45,  7.03s/it]\u001b[A\u001b[A\u001b[A\n",
            "\n",
            "\n",
            " 65%|██████▌   | 26/40 [03:08<01:37,  6.97s/it]\u001b[A\u001b[A\u001b[A\n",
            "\n",
            "\n",
            " 68%|██████▊   | 27/40 [03:15<01:30,  6.92s/it]\u001b[A\u001b[A\u001b[A\n",
            "\n",
            "\n",
            " 70%|███████   | 28/40 [03:22<01:22,  6.89s/it]\u001b[A\u001b[A\u001b[A\n",
            "\n",
            "\n",
            " 72%|███████▎  | 29/40 [03:28<01:15,  6.87s/it]\u001b[A\u001b[A\u001b[A\n",
            "\n",
            "\n",
            " 75%|███████▌  | 30/40 [03:35<01:08,  6.85s/it]\u001b[A\u001b[A\u001b[A\n",
            "\n",
            "\n",
            " 78%|███████▊  | 31/40 [03:42<01:01,  6.82s/it]\u001b[A\u001b[A\u001b[A\n",
            "\n",
            "\n",
            " 80%|████████  | 32/40 [03:49<00:54,  6.81s/it]\u001b[A\u001b[A\u001b[A\n",
            "\n",
            "\n",
            " 82%|████████▎ | 33/40 [03:57<00:51,  7.31s/it]\u001b[A\u001b[A\u001b[A\n",
            "\n",
            "\n",
            " 85%|████████▌ | 34/40 [04:05<00:44,  7.41s/it]\u001b[A\u001b[A\u001b[A\n",
            "\n",
            "\n",
            " 88%|████████▊ | 35/40 [04:12<00:36,  7.26s/it]\u001b[A\u001b[A\u001b[A\n",
            "\n",
            "\n",
            " 90%|█████████ | 36/40 [04:19<00:28,  7.16s/it]\u001b[A\u001b[A\u001b[A\n",
            "\n",
            "\n",
            " 92%|█████████▎| 37/40 [04:26<00:21,  7.06s/it]\u001b[A\u001b[A\u001b[A\n",
            "\n",
            "\n",
            " 95%|█████████▌| 38/40 [04:33<00:14,  7.01s/it]\u001b[A\u001b[A\u001b[A\n",
            "\n",
            "\n",
            " 98%|█████████▊| 39/40 [04:39<00:06,  6.99s/it]\u001b[A\u001b[A\u001b[A\n",
            "\n",
            "\n",
            "100%|██████████| 40/40 [04:46<00:00,  7.17s/it]\n",
            "\n",
            "\n",
            " 78%|███████▊  | 7/9 [32:32<09:22, 281.28s/it]\u001b[A\u001b[A"
          ],
          "name": "stderr"
        },
        {
          "output_type": "stream",
          "text": [
            "(40, 32, 10, 8064)\n",
            "/content/drive/My Drive/Colab Notebooks/data/data_sub/h5/s30.h5\n"
          ],
          "name": "stdout"
        },
        {
          "output_type": "stream",
          "text": [
            "\n",
            "\n",
            "\n",
            "  0%|          | 0/40 [00:00<?, ?it/s]\u001b[A\u001b[A\u001b[A"
          ],
          "name": "stderr"
        },
        {
          "output_type": "stream",
          "text": [
            "/content/drive/My Drive/Colab Notebooks/data/32/data_files/s31.dat\n",
            "(40, 32, 8064)\n"
          ],
          "name": "stdout"
        },
        {
          "output_type": "stream",
          "text": [
            "\n",
            "\n",
            "\n",
            "  2%|▎         | 1/40 [00:07<04:33,  7.02s/it]\u001b[A\u001b[A\u001b[A\n",
            "\n",
            "\n",
            "  5%|▌         | 2/40 [00:14<04:32,  7.17s/it]\u001b[A\u001b[A\u001b[A\n",
            "\n",
            "\n",
            "  8%|▊         | 3/40 [00:21<04:22,  7.09s/it]\u001b[A\u001b[A\u001b[A\n",
            "\n",
            "\n",
            " 10%|█         | 4/40 [00:29<04:28,  7.45s/it]\u001b[A\u001b[A\u001b[A\n",
            "\n",
            "\n",
            " 12%|█▎        | 5/40 [00:36<04:11,  7.19s/it]\u001b[A\u001b[A\u001b[A\n",
            "\n",
            "\n",
            " 15%|█▌        | 6/40 [00:42<03:55,  6.93s/it]\u001b[A\u001b[A\u001b[A\n",
            "\n",
            "\n",
            " 18%|█▊        | 7/40 [00:48<03:42,  6.75s/it]\u001b[A\u001b[A\u001b[A\n",
            "\n",
            "\n",
            " 20%|██        | 8/40 [00:55<03:31,  6.61s/it]\u001b[A\u001b[A\u001b[A\n",
            "\n",
            "\n",
            " 22%|██▎       | 9/40 [01:01<03:22,  6.53s/it]\u001b[A\u001b[A\u001b[A\n",
            "\n",
            "\n",
            " 25%|██▌       | 10/40 [01:08<03:14,  6.50s/it]\u001b[A\u001b[A\u001b[A\n",
            "\n",
            "\n",
            " 28%|██▊       | 11/40 [01:14<03:08,  6.48s/it]\u001b[A\u001b[A\u001b[A\n",
            "\n",
            "\n",
            " 30%|███       | 12/40 [01:20<03:00,  6.46s/it]\u001b[A\u001b[A\u001b[A\n",
            "\n",
            "\n",
            " 32%|███▎      | 13/40 [01:27<02:53,  6.43s/it]\u001b[A\u001b[A\u001b[A\n",
            "\n",
            "\n",
            " 35%|███▌      | 14/40 [01:33<02:46,  6.42s/it]\u001b[A\u001b[A\u001b[A\n",
            "\n",
            "\n",
            " 38%|███▊      | 15/40 [01:40<02:40,  6.43s/it]\u001b[A\u001b[A\u001b[A\n",
            "\n",
            "\n",
            " 40%|████      | 16/40 [01:46<02:34,  6.44s/it]\u001b[A\u001b[A\u001b[A\n",
            "\n",
            "\n",
            " 42%|████▎     | 17/40 [01:52<02:28,  6.44s/it]\u001b[A\u001b[A\u001b[A\n",
            "\n",
            "\n",
            " 45%|████▌     | 18/40 [01:59<02:20,  6.41s/it]\u001b[A\u001b[A\u001b[A\n",
            "\n",
            "\n",
            " 48%|████▊     | 19/40 [02:05<02:14,  6.39s/it]\u001b[A\u001b[A\u001b[A\n",
            "\n",
            "\n",
            " 50%|█████     | 20/40 [02:11<02:07,  6.37s/it]\u001b[A\u001b[A\u001b[A\n",
            "\n",
            "\n",
            " 52%|█████▎    | 21/40 [02:18<02:00,  6.36s/it]\u001b[A\u001b[A\u001b[A\n",
            "\n",
            "\n",
            " 55%|█████▌    | 22/40 [02:24<01:54,  6.38s/it]\u001b[A\u001b[A\u001b[A\n",
            "\n",
            "\n",
            " 57%|█████▊    | 23/40 [02:31<01:48,  6.39s/it]\u001b[A\u001b[A\u001b[A\n",
            "\n",
            "\n",
            " 60%|██████    | 24/40 [02:37<01:42,  6.38s/it]\u001b[A\u001b[A\u001b[A\n",
            "\n",
            "\n",
            " 62%|██████▎   | 25/40 [02:43<01:35,  6.37s/it]\u001b[A\u001b[A\u001b[A\n",
            "\n",
            "\n",
            " 65%|██████▌   | 26/40 [02:50<01:28,  6.35s/it]\u001b[A\u001b[A\u001b[A\n",
            "\n",
            "\n",
            " 68%|██████▊   | 27/40 [02:56<01:22,  6.36s/it]\u001b[A\u001b[A\u001b[A\n",
            "\n",
            "\n",
            " 70%|███████   | 28/40 [03:02<01:16,  6.34s/it]\u001b[A\u001b[A\u001b[A\n",
            "\n",
            "\n",
            " 72%|███████▎  | 29/40 [03:09<01:11,  6.46s/it]\u001b[A\u001b[A\u001b[A\n",
            "\n",
            "\n",
            " 75%|███████▌  | 30/40 [03:16<01:04,  6.46s/it]\u001b[A\u001b[A\u001b[A\n",
            "\n",
            "\n",
            " 78%|███████▊  | 31/40 [03:22<00:57,  6.41s/it]\u001b[A\u001b[A\u001b[A\n",
            "\n",
            "\n",
            " 80%|████████  | 32/40 [03:28<00:51,  6.42s/it]\u001b[A\u001b[A\u001b[A\n",
            "\n",
            "\n",
            " 82%|████████▎ | 33/40 [03:35<00:44,  6.39s/it]\u001b[A\u001b[A\u001b[A\n",
            "\n",
            "\n",
            " 85%|████████▌ | 34/40 [03:41<00:38,  6.40s/it]\u001b[A\u001b[A\u001b[A\n",
            "\n",
            "\n",
            " 88%|████████▊ | 35/40 [03:47<00:31,  6.39s/it]\u001b[A\u001b[A\u001b[A\n",
            "\n",
            "\n",
            " 90%|█████████ | 36/40 [03:54<00:25,  6.40s/it]\u001b[A\u001b[A\u001b[A\n",
            "\n",
            "\n",
            " 92%|█████████▎| 37/40 [04:00<00:19,  6.42s/it]\u001b[A\u001b[A\u001b[A\n",
            "\n",
            "\n",
            " 95%|█████████▌| 38/40 [04:07<00:12,  6.43s/it]\u001b[A\u001b[A\u001b[A\n",
            "\n",
            "\n",
            " 98%|█████████▊| 39/40 [04:13<00:06,  6.51s/it]\u001b[A\u001b[A\u001b[A\n",
            "\n",
            "\n",
            "100%|██████████| 40/40 [04:21<00:00,  6.53s/it]\n"
          ],
          "name": "stderr"
        },
        {
          "output_type": "stream",
          "text": [
            "(40, 32, 10, 8064)\n"
          ],
          "name": "stdout"
        },
        {
          "output_type": "stream",
          "text": [
            "\n",
            "\n",
            " 89%|████████▉ | 8/9 [36:58<04:36, 276.77s/it]\u001b[A\u001b[A"
          ],
          "name": "stderr"
        },
        {
          "output_type": "stream",
          "text": [
            "/content/drive/My Drive/Colab Notebooks/data/data_sub/h5/s31.h5\n"
          ],
          "name": "stdout"
        },
        {
          "output_type": "stream",
          "text": [
            "\n",
            "\n",
            "\n",
            "  0%|          | 0/40 [00:00<?, ?it/s]\u001b[A\u001b[A\u001b[A"
          ],
          "name": "stderr"
        },
        {
          "output_type": "stream",
          "text": [
            "/content/drive/My Drive/Colab Notebooks/data/32/data_files/s32.dat\n",
            "(40, 32, 8064)\n"
          ],
          "name": "stdout"
        },
        {
          "output_type": "stream",
          "text": [
            "\n",
            "\n",
            "\n",
            "  2%|▎         | 1/40 [00:07<04:45,  7.33s/it]\u001b[A\u001b[A\u001b[A\n",
            "\n",
            "\n",
            "  5%|▌         | 2/40 [00:14<04:39,  7.35s/it]\u001b[A\u001b[A\u001b[A\n",
            "\n",
            "\n",
            "  8%|▊         | 3/40 [00:22<04:38,  7.53s/it]\u001b[A\u001b[A\u001b[A\n",
            "\n",
            "\n",
            " 10%|█         | 4/40 [00:29<04:27,  7.44s/it]\u001b[A\u001b[A\u001b[A\n",
            "\n",
            "\n",
            " 12%|█▎        | 5/40 [00:36<04:14,  7.28s/it]\u001b[A\u001b[A\u001b[A\n",
            "\n",
            "\n",
            " 15%|█▌        | 6/40 [00:43<04:03,  7.17s/it]\u001b[A\u001b[A\u001b[A\n",
            "\n",
            "\n",
            " 18%|█▊        | 7/40 [00:50<03:53,  7.09s/it]\u001b[A\u001b[A\u001b[A\n",
            "\n",
            "\n",
            " 20%|██        | 8/40 [00:57<03:46,  7.09s/it]\u001b[A\u001b[A\u001b[A\n",
            "\n",
            "\n",
            " 22%|██▎       | 9/40 [01:04<03:38,  7.04s/it]\u001b[A\u001b[A\u001b[A\n",
            "\n",
            "\n",
            " 25%|██▌       | 10/40 [01:11<03:30,  7.00s/it]\u001b[A\u001b[A\u001b[A\n",
            "\n",
            "\n",
            " 28%|██▊       | 11/40 [01:24<04:15,  8.79s/it]\u001b[A\u001b[A\u001b[A\n",
            "\n",
            "\n",
            " 30%|███       | 12/40 [01:31<03:52,  8.29s/it]\u001b[A\u001b[A\u001b[A\n",
            "\n",
            "\n",
            " 32%|███▎      | 13/40 [01:38<03:33,  7.90s/it]\u001b[A\u001b[A\u001b[A\n",
            "\n",
            "\n",
            " 35%|███▌      | 14/40 [01:45<03:18,  7.63s/it]\u001b[A\u001b[A\u001b[A\n",
            "\n",
            "\n",
            " 38%|███▊      | 15/40 [01:52<03:06,  7.45s/it]\u001b[A\u001b[A\u001b[A\n",
            "\n",
            "\n",
            " 40%|████      | 16/40 [01:59<02:55,  7.31s/it]\u001b[A\u001b[A\u001b[A\n",
            "\n",
            "\n",
            " 42%|████▎     | 17/40 [02:06<02:46,  7.23s/it]\u001b[A\u001b[A\u001b[A\n",
            "\n",
            "\n",
            " 45%|████▌     | 18/40 [02:13<02:38,  7.22s/it]\u001b[A\u001b[A\u001b[A\n",
            "\n",
            "\n",
            " 48%|████▊     | 19/40 [02:21<02:33,  7.31s/it]\u001b[A\u001b[A\u001b[A\n",
            "\n",
            "\n",
            " 50%|█████     | 20/40 [02:28<02:24,  7.24s/it]\u001b[A\u001b[A\u001b[A\n",
            "\n",
            "\n",
            " 52%|█████▎    | 21/40 [02:35<02:18,  7.27s/it]\u001b[A\u001b[A\u001b[A\n",
            "\n",
            "\n",
            " 55%|█████▌    | 22/40 [02:42<02:09,  7.20s/it]\u001b[A\u001b[A\u001b[A\n",
            "\n",
            "\n",
            " 57%|█████▊    | 23/40 [02:50<02:04,  7.33s/it]\u001b[A\u001b[A\u001b[A\n",
            "\n",
            "\n",
            " 60%|██████    | 24/40 [02:57<01:56,  7.28s/it]\u001b[A\u001b[A\u001b[A\n",
            "\n",
            "\n",
            " 62%|██████▎   | 25/40 [03:04<01:48,  7.23s/it]\u001b[A\u001b[A\u001b[A\n",
            "\n",
            "\n",
            " 65%|██████▌   | 26/40 [03:11<01:40,  7.19s/it]\u001b[A\u001b[A\u001b[A\n",
            "\n",
            "\n",
            " 68%|██████▊   | 27/40 [03:19<01:33,  7.22s/it]\u001b[A\u001b[A\u001b[A\n",
            "\n",
            "\n",
            " 70%|███████   | 28/40 [03:26<01:25,  7.12s/it]\u001b[A\u001b[A\u001b[A\n",
            "\n",
            "\n",
            " 72%|███████▎  | 29/40 [03:33<01:17,  7.07s/it]\u001b[A\u001b[A\u001b[A\n",
            "\n",
            "\n",
            " 75%|███████▌  | 30/40 [03:40<01:10,  7.06s/it]\u001b[A\u001b[A\u001b[A\n",
            "\n",
            "\n",
            " 78%|███████▊  | 31/40 [03:47<01:03,  7.03s/it]\u001b[A\u001b[A\u001b[A\n",
            "\n",
            "\n",
            " 80%|████████  | 32/40 [03:53<00:56,  7.01s/it]\u001b[A\u001b[A\u001b[A\n",
            "\n",
            "\n",
            " 82%|████████▎ | 33/40 [04:00<00:48,  6.98s/it]\u001b[A\u001b[A\u001b[A\n",
            "\n",
            "\n",
            " 85%|████████▌ | 34/40 [04:08<00:42,  7.04s/it]\u001b[A\u001b[A\u001b[A\n",
            "\n",
            "\n",
            " 88%|████████▊ | 35/40 [04:14<00:35,  7.01s/it]\u001b[A\u001b[A\u001b[A\n",
            "\n",
            "\n",
            " 90%|█████████ | 36/40 [04:21<00:27,  6.96s/it]\u001b[A\u001b[A\u001b[A\n",
            "\n",
            "\n",
            " 92%|█████████▎| 37/40 [04:28<00:20,  6.95s/it]\u001b[A\u001b[A\u001b[A\n",
            "\n",
            "\n",
            " 95%|█████████▌| 38/40 [04:35<00:13,  6.94s/it]\u001b[A\u001b[A\u001b[A\n",
            "\n",
            "\n",
            " 98%|█████████▊| 39/40 [04:42<00:06,  6.93s/it]\u001b[A\u001b[A\u001b[A\n",
            "\n",
            "\n",
            "100%|██████████| 40/40 [04:49<00:00,  7.24s/it]\n",
            "\n",
            "\n",
            "100%|██████████| 9/9 [41:55<00:00, 279.46s/it]"
          ],
          "name": "stderr"
        },
        {
          "output_type": "stream",
          "text": [
            "(40, 32, 10, 8064)\n",
            "/content/drive/My Drive/Colab Notebooks/data/data_sub/h5/s32.h5\n"
          ],
          "name": "stdout"
        },
        {
          "output_type": "stream",
          "text": [
            "\n"
          ],
          "name": "stderr"
        }
      ]
    },
    {
      "cell_type": "markdown",
      "metadata": {
        "id": "as4zhtkfs5XO"
      },
      "source": [
        "Step 2: Subjectwise Entropies"
      ]
    },
    {
      "cell_type": "code",
      "metadata": {
        "colab": {
          "base_uri": "https://localhost:8080/"
        },
        "id": "CiG01NPnwljo",
        "outputId": "79b81f44-46a8-4ebc-c18a-c2413ea4ad0e"
      },
      "source": [
        "for i1 in tqdm(range(32)):                                                        #For 32 subjects\n",
        "  if(i1%1 == 0):\n",
        "    if i1 < 10:\n",
        "      name = '%0*d' % (2,i1+1)\n",
        "    else:\n",
        "      name = i1+1\n",
        "  fname = \"/content/drive/My Drive/Colab Notebooks/data/data_sub/h5/s\"+str(name)+\".h5\"  \n",
        "  fname1 = \"/content/drive/My Drive/Colab Notebooks/data/data_sub/entropies_s\"+str(name)+\".h5\"\n",
        "  with h5py.File(fname, 'r') as hf1:                                              #Reading EWT data\n",
        "    data=hf1[\"dataset\"][:]\n",
        "  hf1.close() \n",
        "  print(fname)\n",
        "  print(data.shape) \n",
        "\n",
        "  res=np.ndarray((40,32,10,5))\n",
        "\n",
        "  for k in tqdm(range(data.shape[0])):\n",
        "    for j in range(data.shape[1]):\n",
        "      for i in range(data.shape[2]):\n",
        "        #Extracting entropies from EWT data\n",
        "        res_temp=np.array([perm_entropy(data[k][j][i], order=3), spectral_entropy(data[k][j][i], sf=100), svd_entropy(data[k][j][i], order=3), app_entropy(data[k][j][i], order=2), sample_entropy(data[k][j][i], order=2)])\n",
        "        res[k][j][i]=res_temp\n",
        "\n",
        "  print(res.shape)\n",
        "\n",
        "  with h5py.File(fname1, 'w') as hf:                                              #Storing entropy results subjectwise \n",
        "    hf.create_dataset(\"features\",  data=res)\n",
        "    print(fname1)\n",
        "  hf.close()"
      ],
      "execution_count": null,
      "outputs": [
        {
          "output_type": "stream",
          "text": [
            "  0%|          | 0/3 [00:00<?, ?it/s]\n",
            "  0%|          | 0/40 [00:00<?, ?it/s]\u001b[A"
          ],
          "name": "stderr"
        },
        {
          "output_type": "stream",
          "text": [
            "/content/drive/My Drive/Colab Notebooks/data/data_sub/h5/s30.h5\n",
            "(40, 32, 10, 8064)\n"
          ],
          "name": "stdout"
        },
        {
          "output_type": "stream",
          "text": [
            "\n",
            "  2%|▎         | 1/40 [01:33<1:01:01, 93.89s/it]\u001b[A\n",
            "  5%|▌         | 2/40 [03:10<1:00:00, 94.76s/it]\u001b[A/content/entropy/entropy/entropy.py:180: RuntimeWarning: divide by zero encountered in log2\n",
            "  se = -np.multiply(psd_norm, np.log2(psd_norm)).sum()\n",
            "/content/entropy/entropy/entropy.py:180: RuntimeWarning: invalid value encountered in multiply\n",
            "  se = -np.multiply(psd_norm, np.log2(psd_norm)).sum()\n",
            "\n",
            "  8%|▊         | 3/40 [04:50<59:23, 96.30s/it]  \u001b[A\n",
            " 10%|█         | 4/40 [06:31<58:38, 97.74s/it]\u001b[A\n",
            " 12%|█▎        | 5/40 [08:13<57:41, 98.90s/it]\u001b[A/content/entropy/entropy/entropy.py:180: RuntimeWarning: divide by zero encountered in log2\n",
            "  se = -np.multiply(psd_norm, np.log2(psd_norm)).sum()\n",
            "/content/entropy/entropy/entropy.py:180: RuntimeWarning: invalid value encountered in multiply\n",
            "  se = -np.multiply(psd_norm, np.log2(psd_norm)).sum()\n",
            "\n",
            " 15%|█▌        | 6/40 [09:46<55:07, 97.27s/it]\u001b[A\n",
            " 18%|█▊        | 7/40 [11:19<52:41, 95.79s/it]\u001b[A\n",
            " 20%|██        | 8/40 [12:53<50:50, 95.33s/it]\u001b[A/content/entropy/entropy/entropy.py:180: RuntimeWarning: divide by zero encountered in log2\n",
            "  se = -np.multiply(psd_norm, np.log2(psd_norm)).sum()\n",
            "/content/entropy/entropy/entropy.py:180: RuntimeWarning: invalid value encountered in multiply\n",
            "  se = -np.multiply(psd_norm, np.log2(psd_norm)).sum()\n",
            "/content/entropy/entropy/entropy.py:180: RuntimeWarning: divide by zero encountered in log2\n",
            "  se = -np.multiply(psd_norm, np.log2(psd_norm)).sum()\n",
            "/content/entropy/entropy/entropy.py:180: RuntimeWarning: invalid value encountered in multiply\n",
            "  se = -np.multiply(psd_norm, np.log2(psd_norm)).sum()\n",
            "\n",
            " 22%|██▎       | 9/40 [14:28<49:11, 95.21s/it]\u001b[A/content/entropy/entropy/entropy.py:180: RuntimeWarning: divide by zero encountered in log2\n",
            "  se = -np.multiply(psd_norm, np.log2(psd_norm)).sum()\n",
            "/content/entropy/entropy/entropy.py:180: RuntimeWarning: invalid value encountered in multiply\n",
            "  se = -np.multiply(psd_norm, np.log2(psd_norm)).sum()\n",
            "/content/entropy/entropy/entropy.py:180: RuntimeWarning: divide by zero encountered in log2\n",
            "  se = -np.multiply(psd_norm, np.log2(psd_norm)).sum()\n",
            "/content/entropy/entropy/entropy.py:180: RuntimeWarning: invalid value encountered in multiply\n",
            "  se = -np.multiply(psd_norm, np.log2(psd_norm)).sum()\n",
            "\n",
            " 25%|██▌       | 10/40 [16:07<48:12, 96.42s/it]\u001b[A/content/entropy/entropy/entropy.py:180: RuntimeWarning: divide by zero encountered in log2\n",
            "  se = -np.multiply(psd_norm, np.log2(psd_norm)).sum()\n",
            "/content/entropy/entropy/entropy.py:180: RuntimeWarning: invalid value encountered in multiply\n",
            "  se = -np.multiply(psd_norm, np.log2(psd_norm)).sum()\n",
            "\n",
            " 28%|██▊       | 11/40 [17:42<46:21, 95.92s/it]\u001b[A/content/entropy/entropy/entropy.py:180: RuntimeWarning: divide by zero encountered in log2\n",
            "  se = -np.multiply(psd_norm, np.log2(psd_norm)).sum()\n",
            "/content/entropy/entropy/entropy.py:180: RuntimeWarning: invalid value encountered in multiply\n",
            "  se = -np.multiply(psd_norm, np.log2(psd_norm)).sum()\n",
            "\n",
            " 30%|███       | 12/40 [19:17<44:42, 95.81s/it]\u001b[A\n",
            " 32%|███▎      | 13/40 [20:50<42:43, 94.93s/it]\u001b[A\n",
            " 35%|███▌      | 14/40 [22:23<40:48, 94.19s/it]\u001b[A\n",
            " 38%|███▊      | 15/40 [23:54<38:53, 93.34s/it]\u001b[A\n",
            " 40%|████      | 16/40 [25:26<37:10, 92.95s/it]\u001b[A/content/entropy/entropy/entropy.py:180: RuntimeWarning: divide by zero encountered in log2\n",
            "  se = -np.multiply(psd_norm, np.log2(psd_norm)).sum()\n",
            "/content/entropy/entropy/entropy.py:180: RuntimeWarning: invalid value encountered in multiply\n",
            "  se = -np.multiply(psd_norm, np.log2(psd_norm)).sum()\n",
            "\n",
            " 42%|████▎     | 17/40 [27:00<35:46, 93.32s/it]\u001b[A\n",
            " 45%|████▌     | 18/40 [28:43<35:15, 96.17s/it]\u001b[A/content/entropy/entropy/entropy.py:180: RuntimeWarning: divide by zero encountered in log2\n",
            "  se = -np.multiply(psd_norm, np.log2(psd_norm)).sum()\n",
            "/content/entropy/entropy/entropy.py:180: RuntimeWarning: invalid value encountered in multiply\n",
            "  se = -np.multiply(psd_norm, np.log2(psd_norm)).sum()\n",
            "\n",
            " 48%|████▊     | 19/40 [30:17<33:25, 95.48s/it]\u001b[A\n",
            " 50%|█████     | 20/40 [31:52<31:45, 95.28s/it]\u001b[A\n",
            " 52%|█████▎    | 21/40 [33:25<29:57, 94.59s/it]\u001b[A/content/entropy/entropy/entropy.py:180: RuntimeWarning: divide by zero encountered in log2\n",
            "  se = -np.multiply(psd_norm, np.log2(psd_norm)).sum()\n",
            "/content/entropy/entropy/entropy.py:180: RuntimeWarning: invalid value encountered in multiply\n",
            "  se = -np.multiply(psd_norm, np.log2(psd_norm)).sum()\n",
            "\n",
            " 55%|█████▌    | 22/40 [35:01<28:30, 95.01s/it]\u001b[A\n",
            " 57%|█████▊    | 23/40 [36:38<27:04, 95.56s/it]\u001b[A/content/entropy/entropy/entropy.py:180: RuntimeWarning: divide by zero encountered in log2\n",
            "  se = -np.multiply(psd_norm, np.log2(psd_norm)).sum()\n",
            "/content/entropy/entropy/entropy.py:180: RuntimeWarning: invalid value encountered in multiply\n",
            "  se = -np.multiply(psd_norm, np.log2(psd_norm)).sum()\n",
            "\n",
            " 60%|██████    | 24/40 [38:11<25:18, 94.88s/it]\u001b[A\n",
            " 62%|██████▎   | 25/40 [39:43<23:31, 94.12s/it]\u001b[A\n",
            " 65%|██████▌   | 26/40 [41:16<21:53, 93.82s/it]\u001b[A/content/entropy/entropy/entropy.py:180: RuntimeWarning: divide by zero encountered in log2\n",
            "  se = -np.multiply(psd_norm, np.log2(psd_norm)).sum()\n",
            "/content/entropy/entropy/entropy.py:180: RuntimeWarning: invalid value encountered in multiply\n",
            "  se = -np.multiply(psd_norm, np.log2(psd_norm)).sum()\n",
            "\n",
            " 68%|██████▊   | 27/40 [42:54<20:33, 94.88s/it]\u001b[A/content/entropy/entropy/entropy.py:180: RuntimeWarning: divide by zero encountered in log2\n",
            "  se = -np.multiply(psd_norm, np.log2(psd_norm)).sum()\n",
            "/content/entropy/entropy/entropy.py:180: RuntimeWarning: invalid value encountered in multiply\n",
            "  se = -np.multiply(psd_norm, np.log2(psd_norm)).sum()\n",
            "\n",
            " 70%|███████   | 28/40 [44:30<19:05, 95.42s/it]\u001b[A/content/entropy/entropy/entropy.py:180: RuntimeWarning: divide by zero encountered in log2\n",
            "  se = -np.multiply(psd_norm, np.log2(psd_norm)).sum()\n",
            "/content/entropy/entropy/entropy.py:180: RuntimeWarning: invalid value encountered in multiply\n",
            "  se = -np.multiply(psd_norm, np.log2(psd_norm)).sum()\n",
            "/content/entropy/entropy/entropy.py:180: RuntimeWarning: divide by zero encountered in log2\n",
            "  se = -np.multiply(psd_norm, np.log2(psd_norm)).sum()\n",
            "/content/entropy/entropy/entropy.py:180: RuntimeWarning: invalid value encountered in multiply\n",
            "  se = -np.multiply(psd_norm, np.log2(psd_norm)).sum()\n",
            "\n",
            " 72%|███████▎  | 29/40 [46:04<17:25, 95.01s/it]\u001b[A/content/entropy/entropy/entropy.py:180: RuntimeWarning: divide by zero encountered in log2\n",
            "  se = -np.multiply(psd_norm, np.log2(psd_norm)).sum()\n",
            "/content/entropy/entropy/entropy.py:180: RuntimeWarning: invalid value encountered in multiply\n",
            "  se = -np.multiply(psd_norm, np.log2(psd_norm)).sum()\n",
            "\n",
            " 75%|███████▌  | 30/40 [47:35<15:37, 93.76s/it]\u001b[A/content/entropy/entropy/entropy.py:180: RuntimeWarning: divide by zero encountered in log2\n",
            "  se = -np.multiply(psd_norm, np.log2(psd_norm)).sum()\n",
            "/content/entropy/entropy/entropy.py:180: RuntimeWarning: invalid value encountered in multiply\n",
            "  se = -np.multiply(psd_norm, np.log2(psd_norm)).sum()\n",
            "/content/entropy/entropy/entropy.py:180: RuntimeWarning: divide by zero encountered in log2\n",
            "  se = -np.multiply(psd_norm, np.log2(psd_norm)).sum()\n",
            "/content/entropy/entropy/entropy.py:180: RuntimeWarning: invalid value encountered in multiply\n",
            "  se = -np.multiply(psd_norm, np.log2(psd_norm)).sum()\n",
            "\n",
            " 78%|███████▊  | 31/40 [49:09<14:04, 93.88s/it]\u001b[A\n",
            " 80%|████████  | 32/40 [50:42<12:29, 93.64s/it]\u001b[A\n",
            " 82%|████████▎ | 33/40 [52:22<11:07, 95.37s/it]\u001b[A\n",
            " 85%|████████▌ | 34/40 [54:05<09:46, 97.75s/it]\u001b[A/content/entropy/entropy/entropy.py:180: RuntimeWarning: divide by zero encountered in log2\n",
            "  se = -np.multiply(psd_norm, np.log2(psd_norm)).sum()\n",
            "/content/entropy/entropy/entropy.py:180: RuntimeWarning: invalid value encountered in multiply\n",
            "  se = -np.multiply(psd_norm, np.log2(psd_norm)).sum()\n",
            "\n",
            " 88%|████████▊ | 35/40 [55:39<08:02, 96.51s/it]\u001b[A\n",
            " 90%|█████████ | 36/40 [57:13<06:23, 95.76s/it]\u001b[A\n",
            " 92%|█████████▎| 37/40 [58:48<04:46, 95.55s/it]\u001b[A\n",
            " 95%|█████████▌| 38/40 [1:00:25<03:11, 95.88s/it]\u001b[A\n",
            " 98%|█████████▊| 39/40 [1:01:58<01:35, 95.18s/it]\u001b[A/content/entropy/entropy/entropy.py:180: RuntimeWarning: divide by zero encountered in log2\n",
            "  se = -np.multiply(psd_norm, np.log2(psd_norm)).sum()\n",
            "/content/entropy/entropy/entropy.py:180: RuntimeWarning: invalid value encountered in multiply\n",
            "  se = -np.multiply(psd_norm, np.log2(psd_norm)).sum()\n",
            "\n",
            "100%|██████████| 40/40 [1:03:33<00:00, 95.33s/it]\n",
            " 33%|███▎      | 1/3 [1:03:41<2:07:23, 3821.67s/it]"
          ],
          "name": "stderr"
        },
        {
          "output_type": "stream",
          "text": [
            "(40, 32, 10, 5)\n",
            "/content/drive/My Drive/Colab Notebooks/data/data_sub/entropies_s30.h5\n"
          ],
          "name": "stdout"
        },
        {
          "output_type": "stream",
          "text": [
            "\n",
            "  0%|          | 0/40 [00:00<?, ?it/s]\u001b[A"
          ],
          "name": "stderr"
        },
        {
          "output_type": "stream",
          "text": [
            "/content/drive/My Drive/Colab Notebooks/data/data_sub/h5/s31.h5\n",
            "(40, 32, 10, 8064)\n"
          ],
          "name": "stdout"
        },
        {
          "output_type": "stream",
          "text": [
            "\n",
            "  2%|▎         | 1/40 [01:27<56:57, 87.63s/it]\u001b[A\n",
            "  5%|▌         | 2/40 [02:51<54:45, 86.47s/it]\u001b[A\n",
            "  8%|▊         | 3/40 [04:20<53:47, 87.22s/it]\u001b[A\n",
            " 10%|█         | 4/40 [05:46<52:03, 86.77s/it]\u001b[A/content/entropy/entropy/entropy.py:180: RuntimeWarning: divide by zero encountered in log2\n",
            "  se = -np.multiply(psd_norm, np.log2(psd_norm)).sum()\n",
            "/content/entropy/entropy/entropy.py:180: RuntimeWarning: invalid value encountered in multiply\n",
            "  se = -np.multiply(psd_norm, np.log2(psd_norm)).sum()\n",
            "\n",
            " 12%|█▎        | 5/40 [07:12<50:32, 86.63s/it]\u001b[A\n",
            " 15%|█▌        | 6/40 [08:36<48:40, 85.89s/it]\u001b[A/content/entropy/entropy/entropy.py:180: RuntimeWarning: divide by zero encountered in log2\n",
            "  se = -np.multiply(psd_norm, np.log2(psd_norm)).sum()\n",
            "/content/entropy/entropy/entropy.py:180: RuntimeWarning: invalid value encountered in multiply\n",
            "  se = -np.multiply(psd_norm, np.log2(psd_norm)).sum()\n",
            "\n",
            " 18%|█▊        | 7/40 [10:01<47:00, 85.47s/it]\u001b[A/content/entropy/entropy/entropy.py:180: RuntimeWarning: divide by zero encountered in log2\n",
            "  se = -np.multiply(psd_norm, np.log2(psd_norm)).sum()\n",
            "/content/entropy/entropy/entropy.py:180: RuntimeWarning: invalid value encountered in multiply\n",
            "  se = -np.multiply(psd_norm, np.log2(psd_norm)).sum()\n",
            "\n",
            " 20%|██        | 8/40 [11:25<45:23, 85.10s/it]\u001b[A\n",
            " 22%|██▎       | 9/40 [12:48<43:44, 84.65s/it]\u001b[A\n",
            " 25%|██▌       | 10/40 [14:18<43:00, 86.02s/it]\u001b[A\n",
            " 28%|██▊       | 11/40 [15:43<41:25, 85.72s/it]\u001b[A/content/entropy/entropy/entropy.py:180: RuntimeWarning: divide by zero encountered in log2\n",
            "  se = -np.multiply(psd_norm, np.log2(psd_norm)).sum()\n",
            "/content/entropy/entropy/entropy.py:180: RuntimeWarning: invalid value encountered in multiply\n",
            "  se = -np.multiply(psd_norm, np.log2(psd_norm)).sum()\n",
            "\n",
            " 30%|███       | 12/40 [17:06<39:38, 84.95s/it]\u001b[A\n",
            " 32%|███▎      | 13/40 [18:30<38:06, 84.69s/it]\u001b[A/content/entropy/entropy/entropy.py:180: RuntimeWarning: divide by zero encountered in log2\n",
            "  se = -np.multiply(psd_norm, np.log2(psd_norm)).sum()\n",
            "/content/entropy/entropy/entropy.py:180: RuntimeWarning: invalid value encountered in multiply\n",
            "  se = -np.multiply(psd_norm, np.log2(psd_norm)).sum()\n",
            "\n",
            " 35%|███▌      | 14/40 [19:55<36:49, 84.96s/it]\u001b[A\n",
            " 38%|███▊      | 15/40 [21:21<35:25, 85.02s/it]\u001b[A\n",
            " 40%|████      | 16/40 [22:56<35:12, 88.01s/it]\u001b[A\n",
            " 42%|████▎     | 17/40 [24:19<33:14, 86.70s/it]\u001b[A\n",
            " 45%|████▌     | 18/40 [25:45<31:40, 86.41s/it]\u001b[A/content/entropy/entropy/entropy.py:180: RuntimeWarning: divide by zero encountered in log2\n",
            "  se = -np.multiply(psd_norm, np.log2(psd_norm)).sum()\n",
            "/content/entropy/entropy/entropy.py:180: RuntimeWarning: invalid value encountered in multiply\n",
            "  se = -np.multiply(psd_norm, np.log2(psd_norm)).sum()\n",
            "/content/entropy/entropy/entropy.py:180: RuntimeWarning: divide by zero encountered in log2\n",
            "  se = -np.multiply(psd_norm, np.log2(psd_norm)).sum()\n",
            "/content/entropy/entropy/entropy.py:180: RuntimeWarning: invalid value encountered in multiply\n",
            "  se = -np.multiply(psd_norm, np.log2(psd_norm)).sum()\n",
            "\n",
            " 48%|████▊     | 19/40 [27:14<30:33, 87.31s/it]\u001b[A/content/entropy/entropy/entropy.py:180: RuntimeWarning: divide by zero encountered in log2\n",
            "  se = -np.multiply(psd_norm, np.log2(psd_norm)).sum()\n",
            "/content/entropy/entropy/entropy.py:180: RuntimeWarning: invalid value encountered in multiply\n",
            "  se = -np.multiply(psd_norm, np.log2(psd_norm)).sum()\n",
            "/content/entropy/entropy/entropy.py:180: RuntimeWarning: divide by zero encountered in log2\n",
            "  se = -np.multiply(psd_norm, np.log2(psd_norm)).sum()\n",
            "/content/entropy/entropy/entropy.py:180: RuntimeWarning: invalid value encountered in multiply\n",
            "  se = -np.multiply(psd_norm, np.log2(psd_norm)).sum()\n",
            "\n",
            " 50%|█████     | 20/40 [28:41<29:00, 87.02s/it]\u001b[A/content/entropy/entropy/entropy.py:180: RuntimeWarning: divide by zero encountered in log2\n",
            "  se = -np.multiply(psd_norm, np.log2(psd_norm)).sum()\n",
            "/content/entropy/entropy/entropy.py:180: RuntimeWarning: invalid value encountered in multiply\n",
            "  se = -np.multiply(psd_norm, np.log2(psd_norm)).sum()\n",
            "\n",
            " 52%|█████▎    | 21/40 [30:04<27:13, 86.00s/it]\u001b[A\n",
            " 55%|█████▌    | 22/40 [31:30<25:46, 85.94s/it]\u001b[A\n",
            " 57%|█████▊    | 23/40 [33:01<24:47, 87.50s/it]\u001b[A/content/entropy/entropy/entropy.py:180: RuntimeWarning: divide by zero encountered in log2\n",
            "  se = -np.multiply(psd_norm, np.log2(psd_norm)).sum()\n",
            "/content/entropy/entropy/entropy.py:180: RuntimeWarning: invalid value encountered in multiply\n",
            "  se = -np.multiply(psd_norm, np.log2(psd_norm)).sum()\n",
            "\n",
            " 60%|██████    | 24/40 [34:26<23:06, 86.66s/it]\u001b[A\n",
            " 62%|██████▎   | 25/40 [35:55<21:49, 87.33s/it]\u001b[A\n",
            " 65%|██████▌   | 26/40 [37:24<20:31, 87.96s/it]\u001b[A/content/entropy/entropy/entropy.py:180: RuntimeWarning: divide by zero encountered in log2\n",
            "  se = -np.multiply(psd_norm, np.log2(psd_norm)).sum()\n",
            "/content/entropy/entropy/entropy.py:180: RuntimeWarning: invalid value encountered in multiply\n",
            "  se = -np.multiply(psd_norm, np.log2(psd_norm)).sum()\n",
            "/content/entropy/entropy/entropy.py:180: RuntimeWarning: divide by zero encountered in log2\n",
            "  se = -np.multiply(psd_norm, np.log2(psd_norm)).sum()\n",
            "/content/entropy/entropy/entropy.py:180: RuntimeWarning: invalid value encountered in multiply\n",
            "  se = -np.multiply(psd_norm, np.log2(psd_norm)).sum()\n",
            "\n",
            " 68%|██████▊   | 27/40 [38:49<18:51, 87.04s/it]\u001b[A/content/entropy/entropy/entropy.py:180: RuntimeWarning: divide by zero encountered in log2\n",
            "  se = -np.multiply(psd_norm, np.log2(psd_norm)).sum()\n",
            "/content/entropy/entropy/entropy.py:180: RuntimeWarning: invalid value encountered in multiply\n",
            "  se = -np.multiply(psd_norm, np.log2(psd_norm)).sum()\n",
            "/content/entropy/entropy/entropy.py:180: RuntimeWarning: divide by zero encountered in log2\n",
            "  se = -np.multiply(psd_norm, np.log2(psd_norm)).sum()\n",
            "/content/entropy/entropy/entropy.py:180: RuntimeWarning: invalid value encountered in multiply\n",
            "  se = -np.multiply(psd_norm, np.log2(psd_norm)).sum()\n",
            "\n",
            " 70%|███████   | 28/40 [40:13<17:14, 86.17s/it]\u001b[A\n",
            " 72%|███████▎  | 29/40 [41:36<15:37, 85.25s/it]\u001b[A/content/entropy/entropy/entropy.py:180: RuntimeWarning: divide by zero encountered in log2\n",
            "  se = -np.multiply(psd_norm, np.log2(psd_norm)).sum()\n",
            "/content/entropy/entropy/entropy.py:180: RuntimeWarning: invalid value encountered in multiply\n",
            "  se = -np.multiply(psd_norm, np.log2(psd_norm)).sum()\n",
            "\n",
            " 75%|███████▌  | 30/40 [43:00<14:06, 84.64s/it]\u001b[A\n",
            " 78%|███████▊  | 31/40 [44:27<12:48, 85.42s/it]\u001b[A\n",
            " 80%|████████  | 32/40 [45:52<11:22, 85.34s/it]\u001b[A\n",
            " 82%|████████▎ | 33/40 [47:19<10:01, 85.96s/it]\u001b[A/content/entropy/entropy/entropy.py:180: RuntimeWarning: divide by zero encountered in log2\n",
            "  se = -np.multiply(psd_norm, np.log2(psd_norm)).sum()\n",
            "/content/entropy/entropy/entropy.py:180: RuntimeWarning: invalid value encountered in multiply\n",
            "  se = -np.multiply(psd_norm, np.log2(psd_norm)).sum()\n",
            "\n",
            " 85%|████████▌ | 34/40 [48:46<08:36, 86.11s/it]\u001b[A\n",
            " 88%|████████▊ | 35/40 [50:10<07:07, 85.54s/it]\u001b[A\n",
            " 90%|█████████ | 36/40 [51:35<05:41, 85.41s/it]\u001b[A\n",
            " 92%|█████████▎| 37/40 [53:02<04:17, 85.75s/it]\u001b[A\n",
            " 95%|█████████▌| 38/40 [54:28<02:51, 85.86s/it]\u001b[A/content/entropy/entropy/entropy.py:180: RuntimeWarning: divide by zero encountered in log2\n",
            "  se = -np.multiply(psd_norm, np.log2(psd_norm)).sum()\n",
            "/content/entropy/entropy/entropy.py:180: RuntimeWarning: invalid value encountered in multiply\n",
            "  se = -np.multiply(psd_norm, np.log2(psd_norm)).sum()\n",
            "\n",
            " 98%|█████████▊| 39/40 [55:54<01:25, 85.90s/it]\u001b[A\n",
            "100%|██████████| 40/40 [57:17<00:00, 85.95s/it]\n",
            " 67%|██████▋   | 2/3 [2:01:05<1:01:48, 3708.28s/it]\n"
          ],
          "name": "stderr"
        },
        {
          "output_type": "stream",
          "text": [
            "(40, 32, 10, 5)\n",
            "/content/drive/My Drive/Colab Notebooks/data/data_sub/entropies_s31.h5\n",
            "/content/drive/My Drive/Colab Notebooks/data/data_sub/h5/s32.h5\n",
            "(40, 32, 10, 8064)\n"
          ],
          "name": "stdout"
        },
        {
          "output_type": "stream",
          "text": [
            "\r  0%|          | 0/40 [00:00<?, ?it/s]\u001b[A/content/entropy/entropy/entropy.py:180: RuntimeWarning: divide by zero encountered in log2\n",
            "  se = -np.multiply(psd_norm, np.log2(psd_norm)).sum()\n",
            "/content/entropy/entropy/entropy.py:180: RuntimeWarning: invalid value encountered in multiply\n",
            "  se = -np.multiply(psd_norm, np.log2(psd_norm)).sum()\n",
            "/content/entropy/entropy/entropy.py:180: RuntimeWarning: divide by zero encountered in log2\n",
            "  se = -np.multiply(psd_norm, np.log2(psd_norm)).sum()\n",
            "/content/entropy/entropy/entropy.py:180: RuntimeWarning: invalid value encountered in multiply\n",
            "  se = -np.multiply(psd_norm, np.log2(psd_norm)).sum()\n",
            "\n",
            "  2%|▎         | 1/40 [01:43<1:07:18, 103.56s/it]\u001b[A/content/entropy/entropy/entropy.py:180: RuntimeWarning: divide by zero encountered in log2\n",
            "  se = -np.multiply(psd_norm, np.log2(psd_norm)).sum()\n",
            "/content/entropy/entropy/entropy.py:180: RuntimeWarning: invalid value encountered in multiply\n",
            "  se = -np.multiply(psd_norm, np.log2(psd_norm)).sum()\n",
            "\n",
            "  5%|▌         | 2/40 [03:17<1:03:43, 100.61s/it]\u001b[A\n",
            "  8%|▊         | 3/40 [04:58<1:02:13, 100.92s/it]\u001b[A/content/entropy/entropy/entropy.py:180: RuntimeWarning: divide by zero encountered in log2\n",
            "  se = -np.multiply(psd_norm, np.log2(psd_norm)).sum()\n",
            "/content/entropy/entropy/entropy.py:180: RuntimeWarning: invalid value encountered in multiply\n",
            "  se = -np.multiply(psd_norm, np.log2(psd_norm)).sum()\n",
            "\n",
            " 10%|█         | 4/40 [06:34<59:34, 99.29s/it]   \u001b[A/content/entropy/entropy/entropy.py:180: RuntimeWarning: divide by zero encountered in log2\n",
            "  se = -np.multiply(psd_norm, np.log2(psd_norm)).sum()\n",
            "/content/entropy/entropy/entropy.py:180: RuntimeWarning: invalid value encountered in multiply\n",
            "  se = -np.multiply(psd_norm, np.log2(psd_norm)).sum()\n",
            "\n",
            " 12%|█▎        | 5/40 [08:12<57:38, 98.82s/it]\u001b[A\n",
            " 15%|█▌        | 6/40 [09:44<54:50, 96.77s/it]\u001b[A/content/entropy/entropy/entropy.py:180: RuntimeWarning: divide by zero encountered in log2\n",
            "  se = -np.multiply(psd_norm, np.log2(psd_norm)).sum()\n",
            "/content/entropy/entropy/entropy.py:180: RuntimeWarning: invalid value encountered in multiply\n",
            "  se = -np.multiply(psd_norm, np.log2(psd_norm)).sum()\n",
            "\n",
            " 18%|█▊        | 7/40 [11:15<52:19, 95.15s/it]\u001b[A\n",
            " 20%|██        | 8/40 [12:51<50:50, 95.34s/it]\u001b[A\n",
            " 22%|██▎       | 9/40 [14:27<49:26, 95.68s/it]\u001b[A\n",
            " 25%|██▌       | 10/40 [16:04<48:00, 96.03s/it]\u001b[A/content/entropy/entropy/entropy.py:180: RuntimeWarning: divide by zero encountered in log2\n",
            "  se = -np.multiply(psd_norm, np.log2(psd_norm)).sum()\n",
            "/content/entropy/entropy/entropy.py:180: RuntimeWarning: invalid value encountered in multiply\n",
            "  se = -np.multiply(psd_norm, np.log2(psd_norm)).sum()\n",
            "/content/entropy/entropy/entropy.py:180: RuntimeWarning: divide by zero encountered in log2\n",
            "  se = -np.multiply(psd_norm, np.log2(psd_norm)).sum()\n",
            "/content/entropy/entropy/entropy.py:180: RuntimeWarning: invalid value encountered in multiply\n",
            "  se = -np.multiply(psd_norm, np.log2(psd_norm)).sum()\n",
            "\n",
            " 28%|██▊       | 11/40 [17:38<46:10, 95.52s/it]\u001b[A\n",
            " 30%|███       | 12/40 [19:15<44:42, 95.81s/it]\u001b[A\n",
            " 32%|███▎      | 13/40 [20:46<42:25, 94.27s/it]\u001b[A/content/entropy/entropy/entropy.py:180: RuntimeWarning: divide by zero encountered in log2\n",
            "  se = -np.multiply(psd_norm, np.log2(psd_norm)).sum()\n",
            "/content/entropy/entropy/entropy.py:180: RuntimeWarning: invalid value encountered in multiply\n",
            "  se = -np.multiply(psd_norm, np.log2(psd_norm)).sum()\n",
            "\n",
            " 35%|███▌      | 14/40 [22:16<40:17, 92.98s/it]\u001b[A/content/entropy/entropy/entropy.py:180: RuntimeWarning: divide by zero encountered in log2\n",
            "  se = -np.multiply(psd_norm, np.log2(psd_norm)).sum()\n",
            "/content/entropy/entropy/entropy.py:180: RuntimeWarning: invalid value encountered in multiply\n",
            "  se = -np.multiply(psd_norm, np.log2(psd_norm)).sum()\n",
            "/content/entropy/entropy/entropy.py:180: RuntimeWarning: divide by zero encountered in log2\n",
            "  se = -np.multiply(psd_norm, np.log2(psd_norm)).sum()\n",
            "/content/entropy/entropy/entropy.py:180: RuntimeWarning: invalid value encountered in multiply\n",
            "  se = -np.multiply(psd_norm, np.log2(psd_norm)).sum()\n",
            "\n",
            " 38%|███▊      | 15/40 [23:48<38:39, 92.79s/it]\u001b[A\n",
            " 40%|████      | 16/40 [25:23<37:26, 93.58s/it]\u001b[A\n",
            " 42%|████▎     | 17/40 [26:54<35:29, 92.57s/it]\u001b[A\n",
            " 45%|████▌     | 18/40 [28:26<33:53, 92.41s/it]\u001b[A\n",
            " 48%|████▊     | 19/40 [30:00<32:35, 93.12s/it]\u001b[A\n",
            " 50%|█████     | 20/40 [31:50<32:42, 98.10s/it]\u001b[A/content/entropy/entropy/entropy.py:180: RuntimeWarning: divide by zero encountered in log2\n",
            "  se = -np.multiply(psd_norm, np.log2(psd_norm)).sum()\n",
            "/content/entropy/entropy/entropy.py:180: RuntimeWarning: invalid value encountered in multiply\n",
            "  se = -np.multiply(psd_norm, np.log2(psd_norm)).sum()\n",
            "/content/entropy/entropy/entropy.py:180: RuntimeWarning: divide by zero encountered in log2\n",
            "  se = -np.multiply(psd_norm, np.log2(psd_norm)).sum()\n",
            "/content/entropy/entropy/entropy.py:180: RuntimeWarning: invalid value encountered in multiply\n",
            "  se = -np.multiply(psd_norm, np.log2(psd_norm)).sum()\n",
            "\n",
            " 52%|█████▎    | 21/40 [33:41<32:17, 101.97s/it]\u001b[A/content/entropy/entropy/entropy.py:180: RuntimeWarning: divide by zero encountered in log2\n",
            "  se = -np.multiply(psd_norm, np.log2(psd_norm)).sum()\n",
            "/content/entropy/entropy/entropy.py:180: RuntimeWarning: invalid value encountered in multiply\n",
            "  se = -np.multiply(psd_norm, np.log2(psd_norm)).sum()\n",
            "\n",
            " 55%|█████▌    | 22/40 [35:16<29:59, 99.97s/it] \u001b[A\n",
            " 57%|█████▊    | 23/40 [36:51<27:49, 98.22s/it]\u001b[A/content/entropy/entropy/entropy.py:180: RuntimeWarning: divide by zero encountered in log2\n",
            "  se = -np.multiply(psd_norm, np.log2(psd_norm)).sum()\n",
            "/content/entropy/entropy/entropy.py:180: RuntimeWarning: invalid value encountered in multiply\n",
            "  se = -np.multiply(psd_norm, np.log2(psd_norm)).sum()\n",
            "\n",
            " 60%|██████    | 24/40 [38:27<26:02, 97.63s/it]\u001b[A\n",
            " 62%|██████▎   | 25/40 [40:06<24:31, 98.12s/it]\u001b[A/content/entropy/entropy/entropy.py:180: RuntimeWarning: divide by zero encountered in log2\n",
            "  se = -np.multiply(psd_norm, np.log2(psd_norm)).sum()\n",
            "/content/entropy/entropy/entropy.py:180: RuntimeWarning: invalid value encountered in multiply\n",
            "  se = -np.multiply(psd_norm, np.log2(psd_norm)).sum()\n",
            "\n",
            " 65%|██████▌   | 26/40 [41:37<22:25, 96.09s/it]\u001b[A/content/entropy/entropy/entropy.py:180: RuntimeWarning: divide by zero encountered in log2\n",
            "  se = -np.multiply(psd_norm, np.log2(psd_norm)).sum()\n",
            "/content/entropy/entropy/entropy.py:180: RuntimeWarning: invalid value encountered in multiply\n",
            "  se = -np.multiply(psd_norm, np.log2(psd_norm)).sum()\n",
            "\n",
            " 68%|██████▊   | 27/40 [43:15<20:54, 96.52s/it]\u001b[A\n",
            " 70%|███████   | 28/40 [44:51<19:17, 96.42s/it]\u001b[A/content/entropy/entropy/entropy.py:180: RuntimeWarning: divide by zero encountered in log2\n",
            "  se = -np.multiply(psd_norm, np.log2(psd_norm)).sum()\n",
            "/content/entropy/entropy/entropy.py:180: RuntimeWarning: invalid value encountered in multiply\n",
            "  se = -np.multiply(psd_norm, np.log2(psd_norm)).sum()\n",
            "\n",
            " 72%|███████▎  | 29/40 [46:25<17:33, 95.74s/it]\u001b[A\n",
            " 75%|███████▌  | 30/40 [47:56<15:42, 94.28s/it]\u001b[A\n",
            " 78%|███████▊  | 31/40 [49:29<14:03, 93.72s/it]\u001b[A/content/entropy/entropy/entropy.py:180: RuntimeWarning: divide by zero encountered in log2\n",
            "  se = -np.multiply(psd_norm, np.log2(psd_norm)).sum()\n",
            "/content/entropy/entropy/entropy.py:180: RuntimeWarning: invalid value encountered in multiply\n",
            "  se = -np.multiply(psd_norm, np.log2(psd_norm)).sum()\n",
            "\n",
            " 80%|████████  | 32/40 [50:58<12:18, 92.32s/it]\u001b[A\n",
            " 82%|████████▎ | 33/40 [52:28<10:42, 91.74s/it]\u001b[A\n",
            " 85%|████████▌ | 34/40 [54:17<09:40, 96.83s/it]\u001b[A/content/entropy/entropy/entropy.py:180: RuntimeWarning: divide by zero encountered in log2\n",
            "  se = -np.multiply(psd_norm, np.log2(psd_norm)).sum()\n",
            "/content/entropy/entropy/entropy.py:180: RuntimeWarning: invalid value encountered in multiply\n",
            "  se = -np.multiply(psd_norm, np.log2(psd_norm)).sum()\n",
            "/content/entropy/entropy/entropy.py:180: RuntimeWarning: divide by zero encountered in log2\n",
            "  se = -np.multiply(psd_norm, np.log2(psd_norm)).sum()\n",
            "/content/entropy/entropy/entropy.py:180: RuntimeWarning: invalid value encountered in multiply\n",
            "  se = -np.multiply(psd_norm, np.log2(psd_norm)).sum()\n",
            "\n",
            " 88%|████████▊ | 35/40 [55:45<07:52, 94.40s/it]\u001b[A/content/entropy/entropy/entropy.py:180: RuntimeWarning: divide by zero encountered in log2\n",
            "  se = -np.multiply(psd_norm, np.log2(psd_norm)).sum()\n",
            "/content/entropy/entropy/entropy.py:180: RuntimeWarning: invalid value encountered in multiply\n",
            "  se = -np.multiply(psd_norm, np.log2(psd_norm)).sum()\n",
            "/content/entropy/entropy/entropy.py:180: RuntimeWarning: divide by zero encountered in log2\n",
            "  se = -np.multiply(psd_norm, np.log2(psd_norm)).sum()\n",
            "/content/entropy/entropy/entropy.py:180: RuntimeWarning: invalid value encountered in multiply\n",
            "  se = -np.multiply(psd_norm, np.log2(psd_norm)).sum()\n",
            "\n",
            " 90%|█████████ | 36/40 [57:16<06:12, 93.24s/it]\u001b[A\n",
            " 92%|█████████▎| 37/40 [58:50<04:40, 93.48s/it]\u001b[A/content/entropy/entropy/entropy.py:180: RuntimeWarning: divide by zero encountered in log2\n",
            "  se = -np.multiply(psd_norm, np.log2(psd_norm)).sum()\n",
            "/content/entropy/entropy/entropy.py:180: RuntimeWarning: invalid value encountered in multiply\n",
            "  se = -np.multiply(psd_norm, np.log2(psd_norm)).sum()\n",
            "/content/entropy/entropy/entropy.py:180: RuntimeWarning: divide by zero encountered in log2\n",
            "  se = -np.multiply(psd_norm, np.log2(psd_norm)).sum()\n",
            "/content/entropy/entropy/entropy.py:180: RuntimeWarning: invalid value encountered in multiply\n",
            "  se = -np.multiply(psd_norm, np.log2(psd_norm)).sum()\n",
            "\n",
            " 95%|█████████▌| 38/40 [1:00:23<03:06, 93.27s/it]\u001b[A\n",
            " 98%|█████████▊| 39/40 [1:01:57<01:33, 93.43s/it]\u001b[A/content/entropy/entropy/entropy.py:180: RuntimeWarning: divide by zero encountered in log2\n",
            "  se = -np.multiply(psd_norm, np.log2(psd_norm)).sum()\n",
            "/content/entropy/entropy/entropy.py:180: RuntimeWarning: invalid value encountered in multiply\n",
            "  se = -np.multiply(psd_norm, np.log2(psd_norm)).sum()\n",
            "\n",
            "100%|██████████| 40/40 [1:03:29<00:00, 95.23s/it]\n",
            "100%|██████████| 3/3 [3:04:47<00:00, 3695.70s/it]"
          ],
          "name": "stderr"
        },
        {
          "output_type": "stream",
          "text": [
            "(40, 32, 10, 5)\n",
            "/content/drive/My Drive/Colab Notebooks/data/data_sub/entropies_s32.h5\n"
          ],
          "name": "stdout"
        },
        {
          "output_type": "stream",
          "text": [
            "\n"
          ],
          "name": "stderr"
        }
      ]
    },
    {
      "cell_type": "markdown",
      "metadata": {
        "id": "khlItX_XtGFS"
      },
      "source": [
        "Step 3: Combined entropies"
      ]
    },
    {
      "cell_type": "code",
      "metadata": {
        "colab": {
          "base_uri": "https://localhost:8080/"
        },
        "id": "8GRxDazP7V2u",
        "outputId": "013461a0-ebc9-41ae-a254-e7a0c5547e2b"
      },
      "source": [
        "for i1 in tqdm(range(32)):\n",
        "  if(i1%1 == 0):\n",
        "    if i1 < 10:\n",
        "      name = '%0*d' % (2,i1+1)\n",
        "    else:\n",
        "      name = i1+1\n",
        "  fname = \"/content/drive/My Drive/Colab Notebooks/data/data_sub/entropies_s\"+str(name)+\".h5\"\n",
        "  with h5py.File(fname, 'r') as hf1: \n",
        "    data_temp=hf1[\"features\"][:]\n",
        "  hf1.close()\n",
        "  df_temp=pd.DataFrame(data.reshape(12800,5)) \n",
        "  df = pd.concat([df, df_temp])                                                   #combining all entropies for each subject in one file\n",
        "  print(df.shape)\n",
        "df.to_csv('/content/drive/My Drive/Colab Notebooks/data/data_sub/entropies_combined.csv',index=None)"
      ],
      "execution_count": null,
      "outputs": [
        {
          "output_type": "stream",
          "text": [
            "  3%|▎         | 1/31 [00:00<00:23,  1.28it/s]"
          ],
          "name": "stderr"
        },
        {
          "output_type": "stream",
          "text": [
            "(25600, 5)\n"
          ],
          "name": "stdout"
        },
        {
          "output_type": "stream",
          "text": [
            "\r  6%|▋         | 2/31 [00:01<00:22,  1.29it/s]"
          ],
          "name": "stderr"
        },
        {
          "output_type": "stream",
          "text": [
            "(38400, 5)\n"
          ],
          "name": "stdout"
        },
        {
          "output_type": "stream",
          "text": [
            "\r 10%|▉         | 3/31 [00:02<00:20,  1.33it/s]"
          ],
          "name": "stderr"
        },
        {
          "output_type": "stream",
          "text": [
            "(51200, 5)\n"
          ],
          "name": "stdout"
        },
        {
          "output_type": "stream",
          "text": [
            "\r 13%|█▎        | 4/31 [00:02<00:20,  1.34it/s]"
          ],
          "name": "stderr"
        },
        {
          "output_type": "stream",
          "text": [
            "(64000, 5)\n"
          ],
          "name": "stdout"
        },
        {
          "output_type": "stream",
          "text": [
            "\r 16%|█▌        | 5/31 [00:03<00:19,  1.36it/s]"
          ],
          "name": "stderr"
        },
        {
          "output_type": "stream",
          "text": [
            "(76800, 5)\n"
          ],
          "name": "stdout"
        },
        {
          "output_type": "stream",
          "text": [
            "\r 19%|█▉        | 6/31 [00:04<00:18,  1.32it/s]"
          ],
          "name": "stderr"
        },
        {
          "output_type": "stream",
          "text": [
            "(89600, 5)\n"
          ],
          "name": "stdout"
        },
        {
          "output_type": "stream",
          "text": [
            " 26%|██▌       | 8/31 [00:05<00:16,  1.39it/s]"
          ],
          "name": "stderr"
        },
        {
          "output_type": "stream",
          "text": [
            "(102400, 5)\n",
            "(115200, 5)\n"
          ],
          "name": "stdout"
        },
        {
          "output_type": "stream",
          "text": [
            "\r 29%|██▉       | 9/31 [00:06<00:15,  1.39it/s]"
          ],
          "name": "stderr"
        },
        {
          "output_type": "stream",
          "text": [
            "(128000, 5)\n"
          ],
          "name": "stdout"
        },
        {
          "output_type": "stream",
          "text": [
            "\r 32%|███▏      | 10/31 [00:07<00:15,  1.38it/s]"
          ],
          "name": "stderr"
        },
        {
          "output_type": "stream",
          "text": [
            "(140800, 5)\n"
          ],
          "name": "stdout"
        },
        {
          "output_type": "stream",
          "text": [
            "\r 35%|███▌      | 11/31 [00:08<00:14,  1.37it/s]"
          ],
          "name": "stderr"
        },
        {
          "output_type": "stream",
          "text": [
            "(153600, 5)\n"
          ],
          "name": "stdout"
        },
        {
          "output_type": "stream",
          "text": [
            "\r 39%|███▊      | 12/31 [00:08<00:13,  1.36it/s]"
          ],
          "name": "stderr"
        },
        {
          "output_type": "stream",
          "text": [
            "(166400, 5)\n"
          ],
          "name": "stdout"
        },
        {
          "output_type": "stream",
          "text": [
            "\r 42%|████▏     | 13/31 [00:09<00:14,  1.26it/s]"
          ],
          "name": "stderr"
        },
        {
          "output_type": "stream",
          "text": [
            "(179200, 5)\n"
          ],
          "name": "stdout"
        },
        {
          "output_type": "stream",
          "text": [
            " 48%|████▊     | 15/31 [00:11<00:12,  1.28it/s]"
          ],
          "name": "stderr"
        },
        {
          "output_type": "stream",
          "text": [
            "(192000, 5)\n",
            "(204800, 5)\n"
          ],
          "name": "stdout"
        },
        {
          "output_type": "stream",
          "text": [
            "\r 52%|█████▏    | 16/31 [00:11<00:11,  1.32it/s]"
          ],
          "name": "stderr"
        },
        {
          "output_type": "stream",
          "text": [
            "(217600, 5)\n"
          ],
          "name": "stdout"
        },
        {
          "output_type": "stream",
          "text": [
            " 58%|█████▊    | 18/31 [00:13<00:09,  1.34it/s]"
          ],
          "name": "stderr"
        },
        {
          "output_type": "stream",
          "text": [
            "(230400, 5)\n",
            "(243200, 5)\n"
          ],
          "name": "stdout"
        },
        {
          "output_type": "stream",
          "text": [
            "\r 61%|██████▏   | 19/31 [00:14<00:08,  1.36it/s]"
          ],
          "name": "stderr"
        },
        {
          "output_type": "stream",
          "text": [
            "(256000, 5)\n"
          ],
          "name": "stdout"
        },
        {
          "output_type": "stream",
          "text": [
            "\r 65%|██████▍   | 20/31 [00:14<00:08,  1.33it/s]"
          ],
          "name": "stderr"
        },
        {
          "output_type": "stream",
          "text": [
            "(268800, 5)\n"
          ],
          "name": "stdout"
        },
        {
          "output_type": "stream",
          "text": [
            "\r 68%|██████▊   | 21/31 [00:15<00:07,  1.35it/s]"
          ],
          "name": "stderr"
        },
        {
          "output_type": "stream",
          "text": [
            "(281600, 5)\n"
          ],
          "name": "stdout"
        },
        {
          "output_type": "stream",
          "text": [
            "\r 71%|███████   | 22/31 [00:16<00:06,  1.35it/s]"
          ],
          "name": "stderr"
        },
        {
          "output_type": "stream",
          "text": [
            "(294400, 5)\n"
          ],
          "name": "stdout"
        },
        {
          "output_type": "stream",
          "text": [
            "\r 74%|███████▍  | 23/31 [00:17<00:06,  1.29it/s]"
          ],
          "name": "stderr"
        },
        {
          "output_type": "stream",
          "text": [
            "(307200, 5)\n"
          ],
          "name": "stdout"
        },
        {
          "output_type": "stream",
          "text": [
            "\r 77%|███████▋  | 24/31 [00:18<00:05,  1.24it/s]"
          ],
          "name": "stderr"
        },
        {
          "output_type": "stream",
          "text": [
            "(320000, 5)\n"
          ],
          "name": "stdout"
        },
        {
          "output_type": "stream",
          "text": [
            "\r 81%|████████  | 25/31 [00:18<00:04,  1.24it/s]"
          ],
          "name": "stderr"
        },
        {
          "output_type": "stream",
          "text": [
            "(332800, 5)\n"
          ],
          "name": "stdout"
        },
        {
          "output_type": "stream",
          "text": [
            "\r 84%|████████▍ | 26/31 [00:19<00:04,  1.22it/s]"
          ],
          "name": "stderr"
        },
        {
          "output_type": "stream",
          "text": [
            "(345600, 5)\n"
          ],
          "name": "stdout"
        },
        {
          "output_type": "stream",
          "text": [
            "\r 87%|████████▋ | 27/31 [00:20<00:03,  1.20it/s]"
          ],
          "name": "stderr"
        },
        {
          "output_type": "stream",
          "text": [
            "(358400, 5)\n"
          ],
          "name": "stdout"
        },
        {
          "output_type": "stream",
          "text": [
            " 94%|█████████▎| 29/31 [00:22<00:01,  1.26it/s]"
          ],
          "name": "stderr"
        },
        {
          "output_type": "stream",
          "text": [
            "(371200, 5)\n",
            "(384000, 5)\n"
          ],
          "name": "stdout"
        },
        {
          "output_type": "stream",
          "text": [
            "\r 97%|█████████▋| 30/31 [00:22<00:00,  1.26it/s]"
          ],
          "name": "stderr"
        },
        {
          "output_type": "stream",
          "text": [
            "(396800, 5)\n"
          ],
          "name": "stdout"
        },
        {
          "output_type": "stream",
          "text": [
            "100%|██████████| 31/31 [00:23<00:00,  1.31it/s]"
          ],
          "name": "stderr"
        },
        {
          "output_type": "stream",
          "text": [
            "(409600, 5)\n"
          ],
          "name": "stdout"
        },
        {
          "output_type": "stream",
          "text": [
            "\n"
          ],
          "name": "stderr"
        }
      ]
    },
    {
      "cell_type": "markdown",
      "metadata": {
        "id": "vWthcfDetNZv"
      },
      "source": [
        "Step 4: Bandwise entropies"
      ]
    },
    {
      "cell_type": "code",
      "metadata": {
        "colab": {
          "base_uri": "https://localhost:8080/"
        },
        "id": "ClLgR2mmG93D",
        "outputId": "a4d031d2-c175-4bc4-bc97-4acd4a37e67d"
      },
      "source": [
        "entropies_combined=pd.DataFrame(pd.read_csv('/content/drive/My Drive/Colab Notebooks/data/data_sub/entropies_combined.csv'))\n",
        "for i1 in tqdm(range(10)):\n",
        "  if(i1%1 == 0):\n",
        "    if i1 < 10:\n",
        "      name = '%0*d' % (2,i1+1)\n",
        "    else:\n",
        "      name = i1+1\n",
        "  fname = \"/content/drive/My Drive/Colab Notebooks/data/data_sub/entropies_band\"+str(name)+\".csv\"\n",
        "  entropies_band=entropies_combined[entropies_combined.index % 10 == i1]          #Dividing combined entropy file into 10 subbands\n",
        "  entropies_band.to_csv(fname)"
      ],
      "execution_count": null,
      "outputs": [
        {
          "output_type": "stream",
          "text": [
            "100%|██████████| 9/9 [00:03<00:00,  2.34it/s]\n"
          ],
          "name": "stderr"
        }
      ]
    },
    {
      "cell_type": "markdown",
      "metadata": {
        "id": "nVw1wLzrtXmb"
      },
      "source": [
        "Step 5: Oversampling labels"
      ]
    },
    {
      "cell_type": "code",
      "metadata": {
        "colab": {
          "base_uri": "https://localhost:8080/"
        },
        "id": "SsorVmAJY-67",
        "outputId": "db42e691-fa4b-4576-d6d9-1710be19e1a3"
      },
      "source": [
        "for i1 in range(0,4):\n",
        "  print(str(i1))\n",
        "  file_y = \"/content/drive/My Drive/Colab Notebooks/data/divya/threshold/label_class_\"+str(i1)+\"_3.5.dat\"\n",
        "  y = np.genfromtxt(file_y, delimiter=' ')\n",
        "  print(y.shape)\n",
        "  final_y=np.array(np.arange(40960))\n",
        "  for i in range(y.shape[0]):\n",
        "    final_y[(i*32):((i+1)*32)]=y[i]                                               #Oversampling labels\n",
        "  with h5py.File('/content/drive/My Drive/Colab Notebooks/data/data_sub/label_{}.h5'.format(str(i1)), 'w') as hf:\n",
        "    hf.create_dataset(\"y\",  data=final_y)\n",
        "  hf.close()"
      ],
      "execution_count": null,
      "outputs": [
        {
          "output_type": "stream",
          "text": [
            "0\n",
            "(1280,)\n",
            "1\n",
            "(1280,)\n",
            "2\n",
            "(1280,)\n",
            "3\n",
            "(1280,)\n"
          ],
          "name": "stdout"
        }
      ]
    },
    {
      "cell_type": "code",
      "metadata": {
        "id": "qMqoSfMZahWt"
      },
      "source": [
        ""
      ],
      "execution_count": null,
      "outputs": []
    }
  ]
}