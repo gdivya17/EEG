{
  "nbformat": 4,
  "nbformat_minor": 0,
  "metadata": {
    "colab": {
      "name": "Final.ipynb",
      "provenance": [],
      "collapsed_sections": []
    },
    "kernelspec": {
      "name": "python3",
      "display_name": "Python 3"
    }
  },
  "cells": [
    {
      "cell_type": "code",
      "metadata": {
        "colab": {
          "base_uri": "https://localhost:8080/"
        },
        "id": "3mEwu6hGiWoz",
        "outputId": "1f0cf5dd-5286-46c9-d4ff-f30d19e000a3"
      },
      "source": [
        "from google.colab import drive\n",
        "drive.mount('/gdrive')"
      ],
      "execution_count": null,
      "outputs": [
        {
          "output_type": "stream",
          "text": [
            "Mounted at /gdrive\n"
          ],
          "name": "stdout"
        }
      ]
    },
    {
      "cell_type": "code",
      "metadata": {
        "id": "Xc0Ag7WBoBBJ",
        "colab": {
          "base_uri": "https://localhost:8080/"
        },
        "outputId": "1e3c6c47-088b-4a10-848d-770074ef82a2"
      },
      "source": [
        "from imblearn.under_sampling import NearMiss \n",
        "from sklearn.utils import resample\n",
        "import pandas as pd\n",
        "import h5py\n",
        "import matplotlib.pyplot as plt \n",
        "import numpy as np \n",
        "from sklearn.svm import SVC\n",
        "from sklearn.neighbors import KNeighborsClassifier\n",
        "from sklearn.neural_network import MLPClassifier\n",
        "from sklearn.naive_bayes import GaussianNB\n",
        "from sklearn.preprocessing import StandardScaler \n",
        "from sklearn.metrics import confusion_matrix, classification_report \n",
        "from sklearn.metrics import accuracy_score,recall_score\n",
        "from sklearn.ensemble import RandomForestClassifier\n",
        "from sklearn.linear_model import LogisticRegression \n",
        "from sklearn.model_selection import train_test_split \n",
        "from collections import defaultdict\n",
        "import scipy\n",
        "from tqdm import tqdm"
      ],
      "execution_count": null,
      "outputs": [
        {
          "output_type": "stream",
          "text": [
            "/usr/local/lib/python3.6/dist-packages/sklearn/externals/six.py:31: FutureWarning: The module is deprecated in version 0.21 and will be removed in version 0.23 since we've dropped support for Python 2.7. Please rely on the official version of six (https://pypi.org/project/six/).\n",
            "  \"(https://pypi.org/project/six/).\", FutureWarning)\n",
            "/usr/local/lib/python3.6/dist-packages/sklearn/utils/deprecation.py:144: FutureWarning: The sklearn.neighbors.base module is  deprecated in version 0.22 and will be removed in version 0.24. The corresponding classes / functions should instead be imported from sklearn.neighbors. Anything that cannot be imported from sklearn.neighbors is now part of the private API.\n",
            "  warnings.warn(message, FutureWarning)\n"
          ],
          "name": "stderr"
        }
      ]
    },
    {
      "cell_type": "markdown",
      "metadata": {
        "id": "0QzIH8zKCsnW"
      },
      "source": [
        "Applying Classification models"
      ]
    },
    {
      "cell_type": "code",
      "metadata": {
        "id": "6W5V5dY31Tw8",
        "colab": {
          "base_uri": "https://localhost:8080/"
        },
        "outputId": "a4ed53bc-b3af-4cb1-ad96-24a31d678773"
      },
      "source": [
        "models = []\n",
        "models.append(('SVC-rbf', SVC(kernel = 'rbf', random_state = 5)))\n",
        "models.append(('Logistic', LogisticRegression(random_state = 0)))\n",
        "models.append(('KNN', KNeighborsClassifier(n_neighbors=13)))\n",
        "models.append(('NaiveBayes', GaussianNB()))\n",
        "models.append(('Random_Fores', RandomForestClassifier(n_estimators=5)))\n",
        "\n",
        "scoring = 'accuracy'\n",
        "predictions_dict=defaultdict(lambda : defaultdict(lambda : defaultdict(list)))                                               #to store confusion matrix and report\n",
        "\n",
        "for band_no in tqdm(range(10)): \n",
        "  if(band_no%1 == 0):\n",
        "    if band_no < 10:\n",
        "      name = '%0*d' % (2,band_no+1)\n",
        "    else:\n",
        "      name = band_no+1\n",
        "  file_x=\"/gdrive/MyDrive/Colab Notebooks/data/data_sub/entropies_band{}.csv\".format(str(name))                                #X=bandwise entropies\n",
        "  x=pd.read_csv(file_x)\n",
        "  del(x[x.columns[0]])\n",
        "\n",
        "  avg_acc=0\n",
        "  predictions_final=0\n",
        "\n",
        "  for label in tqdm(range(4)):\n",
        "    file_y='/gdrive/MyDrive/Colab Notebooks/data/data_sub/label_th_3.5{}.h5'.format(str(label))                                #Y=oversampled label files\n",
        "    print(\"Label:\",label)\n",
        "    with h5py.File(file_y, 'r') as hf1:\n",
        "      y=hf1[\"y\"][:]\n",
        "    hf1.close()\n",
        "\n",
        "    # split into 70:30 ration \n",
        "    X_train, X_test, y_train, y_test = train_test_split(x, y, test_size = 0.3, random_state = 0) \n",
        "\n",
        "    X_train=X_train.fillna(0)\n",
        "    X_test=X_test.fillna(0)\n",
        "\n",
        "    X_train['y']=y_train\n",
        "    majority = X_train[X_train.y == 1]\n",
        "    minority = X_train[X_train.y == 0]\n",
        "\n",
        "    oversample = resample(minority, replace=True, n_samples=len(majority), random_state=42)                                    #Oversampling\n",
        "    # Returning to new training set\n",
        "    oversample_train = pd.concat([majority, oversample])\n",
        "\n",
        "    oversample_x_train = oversample_train.drop('y', axis=1)\n",
        "    oversample_y_train = oversample_train.y\n",
        "\n",
        "    predictions=np.array(np.arange(X_test.shape[0])).transpose()\n",
        "    print(predictions.shape)\n",
        "    for i in range(len(models)):\n",
        "              name1, model=models[i]\n",
        "              model.fit(oversample_x_train,oversample_y_train)\n",
        "              y_pred=model.predict(X_test)\n",
        "              accuracy=accuracy_score(y_test,y_pred)\n",
        "              msg = \"%s: %f\" % (name1, accuracy)\n",
        "              #print(msg) \n",
        "              predictions=np.vstack((predictions,y_pred))\n",
        "              predictions_dict[band_no][label][name1]=[accuracy,classification_report(y_test, y_pred),confusion_matrix(y_test, y_pred)]\n",
        "    predictions=predictions.transpose()[:,1:]\n",
        "\n",
        "    y_result=scipy.stats.mode(predictions,axis=1)[0]                                                                          #mode of predicted y values\n",
        "    predictions=np.hstack((predictions,y_result))\n",
        "    print(accuracy_score(y_test,y_result))\n",
        "    print(confusion_matrix(y_test,y_result))\n",
        "    avg_acc+=(accuracy_score(y_test,y_result)*100)\n",
        "    if label==0:\n",
        "      predictions_final=predictions\n",
        "    else:\n",
        "      predictions_final=np.hstack((predictions_final,predictions))\n",
        "  predictions_pd=pd.DataFrame(predictions_final)\n",
        "  predictions_pd.to_csv(\"/gdrive/MyDrive/Colab Notebooks/data/data_sub/resampled_result_band{}.csv\".format(str(name)))\n",
        "  print('avg acc '+str(avg_acc/4))"
      ],
      "execution_count": null,
      "outputs": [
        {
          "output_type": "stream",
          "text": [
            "\n",
            "\n",
            "  0%|          | 0/10 [00:00<?, ?it/s]\u001b[A\u001b[A\n",
            "\n",
            "\n",
            "  0%|          | 0/4 [00:00<?, ?it/s]\u001b[A\u001b[A\u001b[A"
          ],
          "name": "stderr"
        },
        {
          "output_type": "stream",
          "text": [
            "Label: 0\n",
            "(12288,)\n"
          ],
          "name": "stdout"
        },
        {
          "output_type": "stream",
          "text": [
            "\n",
            "\n",
            "\n",
            " 25%|██▌       | 1/4 [01:38<04:55, 98.64s/it]\u001b[A\u001b[A\u001b[A"
          ],
          "name": "stderr"
        },
        {
          "output_type": "stream",
          "text": [
            "0.653564453125\n",
            "[[1152 1715]\n",
            " [2542 6879]]\n",
            "Label: 1\n",
            "(12288,)\n"
          ],
          "name": "stdout"
        },
        {
          "output_type": "stream",
          "text": [
            "\n",
            "\n",
            "\n",
            " 50%|█████     | 2/4 [03:12<03:14, 97.20s/it]\u001b[A\u001b[A\u001b[A"
          ],
          "name": "stderr"
        },
        {
          "output_type": "stream",
          "text": [
            "0.5838216145833334\n",
            "[[1540 1418]\n",
            " [3696 5634]]\n",
            "Label: 2\n",
            "(12288,)\n"
          ],
          "name": "stdout"
        },
        {
          "output_type": "stream",
          "text": [
            "\n",
            "\n",
            "\n",
            " 75%|███████▌  | 3/4 [04:49<01:37, 97.14s/it]\u001b[A\u001b[A\u001b[A"
          ],
          "name": "stderr"
        },
        {
          "output_type": "stream",
          "text": [
            "0.62646484375\n",
            "[[1110 1628]\n",
            " [2962 6588]]\n",
            "Label: 3\n",
            "(12288,)\n"
          ],
          "name": "stdout"
        },
        {
          "output_type": "stream",
          "text": [
            "\n",
            "\n",
            "\n",
            "100%|██████████| 4/4 [06:26<00:00, 96.55s/it]\n",
            "\n",
            "\n",
            " 10%|█         | 1/10 [06:26<57:57, 386.34s/it]\u001b[A\u001b[A\n",
            "\n",
            "\n",
            "  0%|          | 0/4 [00:00<?, ?it/s]\u001b[A\u001b[A\u001b[A"
          ],
          "name": "stderr"
        },
        {
          "output_type": "stream",
          "text": [
            "0.6503092447916666\n",
            "[[1207 1533]\n",
            " [2764 6784]]\n",
            "avg acc 62.85400390625\n",
            "Label: 0\n",
            "(12288,)\n"
          ],
          "name": "stdout"
        },
        {
          "output_type": "stream",
          "text": [
            "\n",
            "\n",
            "\n",
            " 25%|██▌       | 1/4 [01:41<05:04, 101.62s/it]\u001b[A\u001b[A\u001b[A"
          ],
          "name": "stderr"
        },
        {
          "output_type": "stream",
          "text": [
            "0.5226236979166666\n",
            "[[2022  845]\n",
            " [5021 4400]]\n",
            "Label: 1\n",
            "(12288,)\n"
          ],
          "name": "stdout"
        },
        {
          "output_type": "stream",
          "text": [
            "\n",
            "\n",
            "\n",
            " 50%|█████     | 2/4 [03:15<03:18, 99.33s/it] \u001b[A\u001b[A\u001b[A"
          ],
          "name": "stderr"
        },
        {
          "output_type": "stream",
          "text": [
            "0.610107421875\n",
            "[[1124 1834]\n",
            " [2957 6373]]\n",
            "Label: 2\n",
            "(12288,)\n"
          ],
          "name": "stdout"
        },
        {
          "output_type": "stream",
          "text": [
            "\n",
            "\n",
            "\n",
            " 75%|███████▌  | 3/4 [04:56<01:39, 99.83s/it]\u001b[A\u001b[A\u001b[A"
          ],
          "name": "stderr"
        },
        {
          "output_type": "stream",
          "text": [
            "0.47802734375\n",
            "[[1890  848]\n",
            " [5566 3984]]\n",
            "Label: 3\n",
            "(12288,)\n"
          ],
          "name": "stdout"
        },
        {
          "output_type": "stream",
          "text": [
            "\n",
            "\n",
            "\n",
            "100%|██████████| 4/4 [06:37<00:00, 99.39s/it] \n",
            "\n",
            "\n",
            " 20%|██        | 2/10 [13:04<51:57, 389.75s/it]\u001b[A\u001b[A"
          ],
          "name": "stderr"
        },
        {
          "output_type": "stream",
          "text": [
            "0.4715169270833333\n",
            "[[2008  732]\n",
            " [5762 3786]]\n",
            "avg acc 52.056884765625\n"
          ],
          "name": "stdout"
        },
        {
          "output_type": "stream",
          "text": [
            "\n",
            "\n",
            "\n",
            "  0%|          | 0/4 [00:00<?, ?it/s]\u001b[A\u001b[A\u001b[A"
          ],
          "name": "stderr"
        },
        {
          "output_type": "stream",
          "text": [
            "Label: 0\n",
            "(12288,)\n"
          ],
          "name": "stdout"
        },
        {
          "output_type": "stream",
          "text": [
            "\n",
            "\n",
            "\n",
            " 25%|██▌       | 1/4 [01:35<04:46, 95.37s/it]\u001b[A\u001b[A\u001b[A"
          ],
          "name": "stderr"
        },
        {
          "output_type": "stream",
          "text": [
            "0.6075032552083334\n",
            "[[1360 1507]\n",
            " [3316 6105]]\n",
            "Label: 1\n",
            "(12288,)\n"
          ],
          "name": "stdout"
        },
        {
          "output_type": "stream",
          "text": [
            "\n",
            "\n",
            "\n",
            " 50%|█████     | 2/4 [03:09<03:10, 95.06s/it]\u001b[A\u001b[A\u001b[A"
          ],
          "name": "stderr"
        },
        {
          "output_type": "stream",
          "text": [
            "0.6009928385416666\n",
            "[[1330 1628]\n",
            " [3275 6055]]\n",
            "Label: 2\n",
            "(12288,)\n"
          ],
          "name": "stdout"
        },
        {
          "output_type": "stream",
          "text": [
            "\n",
            "\n",
            "\n",
            " 75%|███████▌  | 3/4 [04:52<01:37, 97.47s/it]\u001b[A\u001b[A\u001b[A"
          ],
          "name": "stderr"
        },
        {
          "output_type": "stream",
          "text": [
            "0.5755208333333334\n",
            "[[1236 1502]\n",
            " [3714 5836]]\n",
            "Label: 3\n",
            "(12288,)\n"
          ],
          "name": "stdout"
        },
        {
          "output_type": "stream",
          "text": [
            "\n",
            "\n",
            "\n",
            "100%|██████████| 4/4 [06:27<00:00, 96.88s/it]\n",
            "\n",
            "\n",
            " 30%|███       | 3/10 [19:32<45:25, 389.30s/it]\u001b[A\u001b[A"
          ],
          "name": "stderr"
        },
        {
          "output_type": "stream",
          "text": [
            "0.6334635416666666\n",
            "[[1292 1448]\n",
            " [3056 6492]]\n",
            "avg acc 60.43701171875\n"
          ],
          "name": "stdout"
        },
        {
          "output_type": "stream",
          "text": [
            "\n",
            "\n",
            "\n",
            "  0%|          | 0/4 [00:00<?, ?it/s]\u001b[A\u001b[A\u001b[A"
          ],
          "name": "stderr"
        },
        {
          "output_type": "stream",
          "text": [
            "Label: 0\n",
            "(12288,)\n"
          ],
          "name": "stdout"
        },
        {
          "output_type": "stream",
          "text": [
            "\n",
            "\n",
            "\n",
            " 25%|██▌       | 1/4 [01:37<04:52, 97.48s/it]\u001b[A\u001b[A\u001b[A"
          ],
          "name": "stderr"
        },
        {
          "output_type": "stream",
          "text": [
            "0.6066080729166666\n",
            "[[1488 1379]\n",
            " [3455 5966]]\n",
            "Label: 1\n",
            "(12288,)\n"
          ],
          "name": "stdout"
        },
        {
          "output_type": "stream",
          "text": [
            "\n",
            "\n",
            "\n",
            " 50%|█████     | 2/4 [03:12<03:13, 96.63s/it]\u001b[A\u001b[A\u001b[A"
          ],
          "name": "stderr"
        },
        {
          "output_type": "stream",
          "text": [
            "0.5441080729166666\n",
            "[[1499 1459]\n",
            " [4143 5187]]\n",
            "Label: 2\n",
            "(12288,)\n"
          ],
          "name": "stdout"
        },
        {
          "output_type": "stream",
          "text": [
            "\n",
            "\n",
            "\n",
            " 75%|███████▌  | 3/4 [04:51<01:37, 97.33s/it]\u001b[A\u001b[A\u001b[A"
          ],
          "name": "stderr"
        },
        {
          "output_type": "stream",
          "text": [
            "0.5409342447916666\n",
            "[[1375 1363]\n",
            " [4278 5272]]\n",
            "Label: 3\n",
            "(12288,)\n"
          ],
          "name": "stdout"
        },
        {
          "output_type": "stream",
          "text": [
            "\n",
            "\n",
            "\n",
            "100%|██████████| 4/4 [06:27<00:00, 96.97s/it]\n",
            "\n",
            "\n",
            " 40%|████      | 4/10 [26:00<38:54, 389.09s/it]\u001b[A\u001b[A"
          ],
          "name": "stderr"
        },
        {
          "output_type": "stream",
          "text": [
            "0.5508626302083334\n",
            "[[1458 1282]\n",
            " [4237 5311]]\n",
            "avg acc 56.062825520833336\n"
          ],
          "name": "stdout"
        },
        {
          "output_type": "stream",
          "text": [
            "\n",
            "\n",
            "\n",
            "  0%|          | 0/4 [00:00<?, ?it/s]\u001b[A\u001b[A\u001b[A"
          ],
          "name": "stderr"
        },
        {
          "output_type": "stream",
          "text": [
            "Label: 0\n",
            "(12288,)\n"
          ],
          "name": "stdout"
        },
        {
          "output_type": "stream",
          "text": [
            "\n",
            "\n",
            "\n",
            " 25%|██▌       | 1/4 [01:39<04:57, 99.03s/it]\u001b[A\u001b[A\u001b[A"
          ],
          "name": "stderr"
        },
        {
          "output_type": "stream",
          "text": [
            "0.5349934895833334\n",
            "[[1664 1203]\n",
            " [4511 4910]]\n",
            "Label: 1\n",
            "(12288,)\n"
          ],
          "name": "stdout"
        },
        {
          "output_type": "stream",
          "text": [
            "\n",
            "\n",
            "\n",
            " 50%|█████     | 2/4 [03:13<03:15, 97.55s/it]\u001b[A\u001b[A\u001b[A"
          ],
          "name": "stderr"
        },
        {
          "output_type": "stream",
          "text": [
            "0.547119140625\n",
            "[[1424 1534]\n",
            " [4031 5299]]\n",
            "Label: 2\n",
            "(12288,)\n"
          ],
          "name": "stdout"
        },
        {
          "output_type": "stream",
          "text": [
            "\n",
            "\n",
            "\n",
            " 75%|███████▌  | 3/4 [04:54<01:38, 98.59s/it]\u001b[A\u001b[A\u001b[A"
          ],
          "name": "stderr"
        },
        {
          "output_type": "stream",
          "text": [
            "0.5123697916666666\n",
            "[[1492 1246]\n",
            " [4746 4804]]\n",
            "Label: 3\n",
            "(12288,)\n"
          ],
          "name": "stdout"
        },
        {
          "output_type": "stream",
          "text": [
            "\n",
            "\n",
            "\n",
            "100%|██████████| 4/4 [06:32<00:00, 98.18s/it]\n",
            "\n",
            "\n",
            " 50%|█████     | 5/10 [32:34<32:31, 390.39s/it]\u001b[A\u001b[A"
          ],
          "name": "stderr"
        },
        {
          "output_type": "stream",
          "text": [
            "0.602783203125\n",
            "[[1362 1378]\n",
            " [3503 6045]]\n",
            "avg acc 54.931640625\n"
          ],
          "name": "stdout"
        },
        {
          "output_type": "stream",
          "text": [
            "\n",
            "\n",
            "\n",
            "  0%|          | 0/4 [00:00<?, ?it/s]\u001b[A\u001b[A\u001b[A"
          ],
          "name": "stderr"
        },
        {
          "output_type": "stream",
          "text": [
            "Label: 0\n",
            "(12288,)\n"
          ],
          "name": "stdout"
        },
        {
          "output_type": "stream",
          "text": [
            "\n",
            "\n",
            "\n",
            " 25%|██▌       | 1/4 [01:40<05:01, 100.56s/it]\u001b[A\u001b[A\u001b[A"
          ],
          "name": "stderr"
        },
        {
          "output_type": "stream",
          "text": [
            "0.5420735677083334\n",
            "[[1761 1106]\n",
            " [4521 4900]]\n",
            "Label: 1\n",
            "(12288,)\n"
          ],
          "name": "stdout"
        },
        {
          "output_type": "stream",
          "text": [
            "\n",
            "\n",
            "\n",
            " 50%|█████     | 2/4 [03:16<03:18, 99.03s/it] \u001b[A\u001b[A\u001b[A"
          ],
          "name": "stderr"
        },
        {
          "output_type": "stream",
          "text": [
            "0.5550130208333334\n",
            "[[1495 1463]\n",
            " [4005 5325]]\n",
            "Label: 2\n",
            "(12288,)\n"
          ],
          "name": "stdout"
        },
        {
          "output_type": "stream",
          "text": [
            "\n",
            "\n",
            "\n",
            " 75%|███████▌  | 3/4 [05:03<01:41, 101.49s/it]\u001b[A\u001b[A\u001b[A"
          ],
          "name": "stderr"
        },
        {
          "output_type": "stream",
          "text": [
            "0.5011393229166666\n",
            "[[1607 1131]\n",
            " [4999 4551]]\n",
            "Label: 3\n",
            "(12288,)\n"
          ],
          "name": "stdout"
        },
        {
          "output_type": "stream",
          "text": [
            "\n",
            "\n",
            "\n",
            "100%|██████████| 4/4 [06:42<00:00, 100.59s/it]\n",
            "\n",
            "\n",
            " 60%|██████    | 6/10 [39:17<26:16, 394.20s/it]\u001b[A\u001b[A"
          ],
          "name": "stderr"
        },
        {
          "output_type": "stream",
          "text": [
            "0.514892578125\n",
            "[[1657 1083]\n",
            " [4878 4670]]\n",
            "avg acc 52.827962239583336\n"
          ],
          "name": "stdout"
        },
        {
          "output_type": "stream",
          "text": [
            "\n",
            "\n",
            "\n",
            "  0%|          | 0/4 [00:00<?, ?it/s]\u001b[A\u001b[A\u001b[A"
          ],
          "name": "stderr"
        },
        {
          "output_type": "stream",
          "text": [
            "Label: 0\n",
            "(12288,)\n"
          ],
          "name": "stdout"
        },
        {
          "output_type": "stream",
          "text": [
            "\n",
            "\n",
            "\n",
            " 25%|██▌       | 1/4 [01:38<04:55, 98.60s/it]\u001b[A\u001b[A\u001b[A"
          ],
          "name": "stderr"
        },
        {
          "output_type": "stream",
          "text": [
            "0.5609537760416666\n",
            "[[1766 1101]\n",
            " [4294 5127]]\n",
            "Label: 1\n",
            "(12288,)\n"
          ],
          "name": "stdout"
        },
        {
          "output_type": "stream",
          "text": [
            "\n",
            "\n",
            "\n",
            " 50%|█████     | 2/4 [03:12<03:14, 97.29s/it]\u001b[A\u001b[A\u001b[A"
          ],
          "name": "stderr"
        },
        {
          "output_type": "stream",
          "text": [
            "0.51953125\n",
            "[[1602 1356]\n",
            " [4548 4782]]\n",
            "Label: 2\n",
            "(12288,)\n"
          ],
          "name": "stdout"
        },
        {
          "output_type": "stream",
          "text": [
            "\n",
            "\n",
            "\n",
            " 75%|███████▌  | 3/4 [04:53<01:38, 98.31s/it]\u001b[A\u001b[A\u001b[A"
          ],
          "name": "stderr"
        },
        {
          "output_type": "stream",
          "text": [
            "0.52001953125\n",
            "[[1601 1137]\n",
            " [4761 4789]]\n",
            "Label: 3\n",
            "(12288,)\n"
          ],
          "name": "stdout"
        },
        {
          "output_type": "stream",
          "text": [
            "\n",
            "\n",
            "\n",
            "100%|██████████| 4/4 [06:32<00:00, 98.03s/it]\n",
            "\n",
            "\n",
            " 70%|███████   | 7/10 [45:50<19:41, 393.78s/it]\u001b[A\u001b[A"
          ],
          "name": "stderr"
        },
        {
          "output_type": "stream",
          "text": [
            "0.4973958333333333\n",
            "[[1780  960]\n",
            " [5216 4332]]\n",
            "avg acc 52.447509765625\n"
          ],
          "name": "stdout"
        },
        {
          "output_type": "stream",
          "text": [
            "\n",
            "\n",
            "\n",
            "  0%|          | 0/4 [00:00<?, ?it/s]\u001b[A\u001b[A\u001b[A"
          ],
          "name": "stderr"
        },
        {
          "output_type": "stream",
          "text": [
            "Label: 0\n",
            "(12288,)\n"
          ],
          "name": "stdout"
        },
        {
          "output_type": "stream",
          "text": [
            "\n",
            "\n",
            "\n",
            " 25%|██▌       | 1/4 [01:42<05:08, 102.78s/it]\u001b[A\u001b[A\u001b[A"
          ],
          "name": "stderr"
        },
        {
          "output_type": "stream",
          "text": [
            "0.5484212239583334\n",
            "[[1831 1036]\n",
            " [4513 4908]]\n",
            "Label: 1\n",
            "(12288,)\n"
          ],
          "name": "stdout"
        },
        {
          "output_type": "stream",
          "text": [
            "\n",
            "\n",
            "\n",
            " 50%|█████     | 2/4 [03:16<03:20, 100.11s/it]\u001b[A\u001b[A\u001b[A"
          ],
          "name": "stderr"
        },
        {
          "output_type": "stream",
          "text": [
            "0.535888671875\n",
            "[[1845 1113]\n",
            " [4590 4740]]\n",
            "Label: 2\n",
            "(12288,)\n"
          ],
          "name": "stdout"
        },
        {
          "output_type": "stream",
          "text": [
            "\n",
            "\n",
            "\n",
            " 75%|███████▌  | 3/4 [04:58<01:40, 100.59s/it]\u001b[A\u001b[A\u001b[A"
          ],
          "name": "stderr"
        },
        {
          "output_type": "stream",
          "text": [
            "0.5179850260416666\n",
            "[[1588 1150]\n",
            " [4773 4777]]\n",
            "Label: 3\n",
            "(12288,)\n"
          ],
          "name": "stdout"
        },
        {
          "output_type": "stream",
          "text": [
            "\n",
            "\n",
            "\n",
            "100%|██████████| 4/4 [06:36<00:00, 99.11s/it]\n",
            "\n",
            "\n",
            " 80%|████████  | 8/10 [52:27<13:09, 394.79s/it]\u001b[A\u001b[A"
          ],
          "name": "stderr"
        },
        {
          "output_type": "stream",
          "text": [
            "0.5017903645833334\n",
            "[[1792  948]\n",
            " [5174 4374]]\n",
            "avg acc 52.602132161458336\n"
          ],
          "name": "stdout"
        },
        {
          "output_type": "stream",
          "text": [
            "\n",
            "\n",
            "\n",
            "  0%|          | 0/4 [00:00<?, ?it/s]\u001b[A\u001b[A\u001b[A"
          ],
          "name": "stderr"
        },
        {
          "output_type": "stream",
          "text": [
            "Label: 0\n",
            "(12288,)\n"
          ],
          "name": "stdout"
        },
        {
          "output_type": "stream",
          "text": [
            "\n",
            "\n",
            "\n",
            " 25%|██▌       | 1/4 [01:36<04:48, 96.19s/it]\u001b[A\u001b[A\u001b[A"
          ],
          "name": "stderr"
        },
        {
          "output_type": "stream",
          "text": [
            "0.57373046875\n",
            "[[2098  769]\n",
            " [4469 4952]]\n",
            "Label: 1\n",
            "(12288,)\n"
          ],
          "name": "stdout"
        },
        {
          "output_type": "stream",
          "text": [
            "\n",
            "\n",
            "\n",
            " 50%|█████     | 2/4 [03:09<03:10, 95.40s/it]\u001b[A\u001b[A\u001b[A"
          ],
          "name": "stderr"
        },
        {
          "output_type": "stream",
          "text": [
            "0.524169921875\n",
            "[[1979  979]\n",
            " [4868 4462]]\n",
            "Label: 2\n",
            "(12288,)\n"
          ],
          "name": "stdout"
        },
        {
          "output_type": "stream",
          "text": [
            "\n",
            "\n",
            "\n",
            " 75%|███████▌  | 3/4 [04:53<01:37, 97.95s/it]\u001b[A\u001b[A\u001b[A"
          ],
          "name": "stderr"
        },
        {
          "output_type": "stream",
          "text": [
            "0.499267578125\n",
            "[[1920  818]\n",
            " [5335 4215]]\n",
            "Label: 3\n",
            "(12288,)\n"
          ],
          "name": "stdout"
        },
        {
          "output_type": "stream",
          "text": [
            "\n",
            "\n",
            "\n",
            "100%|██████████| 4/4 [06:33<00:00, 98.38s/it]\n",
            "\n",
            "\n",
            " 90%|█████████ | 9/10 [59:01<06:34, 394.62s/it]\u001b[A\u001b[A"
          ],
          "name": "stderr"
        },
        {
          "output_type": "stream",
          "text": [
            "0.5469563802083334\n",
            "[[1660 1080]\n",
            " [4487 5061]]\n",
            "avg acc 53.603108723958336\n"
          ],
          "name": "stdout"
        },
        {
          "output_type": "stream",
          "text": [
            "\n",
            "\n",
            "\n",
            "  0%|          | 0/4 [00:00<?, ?it/s]\u001b[A\u001b[A\u001b[A"
          ],
          "name": "stderr"
        },
        {
          "output_type": "stream",
          "text": [
            "Label: 0\n",
            "(12288,)\n"
          ],
          "name": "stdout"
        },
        {
          "output_type": "stream",
          "text": [
            "\n",
            "\n",
            "\n",
            " 25%|██▌       | 1/4 [01:32<04:36, 92.28s/it]\u001b[A\u001b[A\u001b[A"
          ],
          "name": "stderr"
        },
        {
          "output_type": "stream",
          "text": [
            "0.752197265625\n",
            "[[1184 1683]\n",
            " [1362 8059]]\n",
            "Label: 1\n",
            "(12288,)\n"
          ],
          "name": "stdout"
        },
        {
          "output_type": "stream",
          "text": [
            "\n",
            "\n",
            "\n",
            " 50%|█████     | 2/4 [03:01<03:02, 91.44s/it]\u001b[A\u001b[A\u001b[A"
          ],
          "name": "stderr"
        },
        {
          "output_type": "stream",
          "text": [
            "0.641357421875\n",
            "[[1226 1732]\n",
            " [2675 6655]]\n",
            "Label: 2\n",
            "(12288,)\n"
          ],
          "name": "stdout"
        },
        {
          "output_type": "stream",
          "text": [
            "\n",
            "\n",
            "\n",
            " 75%|███████▌  | 3/4 [04:36<01:32, 92.31s/it]\u001b[A\u001b[A\u001b[A"
          ],
          "name": "stderr"
        },
        {
          "output_type": "stream",
          "text": [
            "0.6996256510416666\n",
            "[[ 992 1746]\n",
            " [1945 7605]]\n",
            "Label: 3\n",
            "(12288,)\n"
          ],
          "name": "stdout"
        },
        {
          "output_type": "stream",
          "text": [
            "\n",
            "\n",
            "\n",
            "100%|██████████| 4/4 [06:11<00:00, 92.77s/it]\n",
            "\n",
            "\n",
            "100%|██████████| 10/10 [1:05:13<00:00, 391.33s/it]"
          ],
          "name": "stderr"
        },
        {
          "output_type": "stream",
          "text": [
            "0.5309244791666666\n",
            "[[1515 1225]\n",
            " [4539 5009]]\n",
            "avg acc 65.60262044270833\n"
          ],
          "name": "stdout"
        },
        {
          "output_type": "stream",
          "text": [
            "\n"
          ],
          "name": "stderr"
        }
      ]
    },
    {
      "cell_type": "code",
      "metadata": {
        "id": "7T-ta--Y-xlD"
      },
      "source": [
        "delete=predictions_dict"
      ],
      "execution_count": null,
      "outputs": []
    },
    {
      "cell_type": "code",
      "metadata": {
        "id": "u4eYp-MLevo1"
      },
      "source": [
        "import json\n",
        "\n",
        "class NumpyEncoder(json.JSONEncoder):\n",
        "    def default(self, obj):\n",
        "        if isinstance(obj, np.ndarray):\n",
        "            return obj.tolist()\n",
        "        return json.JSONEncoder.default(self, obj)\n",
        "\n",
        "json.dump(delete,open('/gdrive/MyDrive/Colab Notebooks/data/data_sub/resampled_result_dict.json','w'),cls=NumpyEncoder)         #stores predicted y values for all models and their mode"
      ],
      "execution_count": null,
      "outputs": []
    },
    {
      "cell_type": "code",
      "metadata": {
        "id": "2FagEetBAceF"
      },
      "source": [
        "from scipy import stats"
      ],
      "execution_count": null,
      "outputs": []
    },
    {
      "cell_type": "markdown",
      "metadata": {
        "id": "Y_5SnCC_I_j9"
      },
      "source": [
        "Choosing top 3 models and creating fusion of those models"
      ]
    },
    {
      "cell_type": "code",
      "metadata": {
        "colab": {
          "base_uri": "https://localhost:8080/"
        },
        "id": "_5qI1N8GFg8N",
        "outputId": "31e5ef01-7782-4b9f-c9d0-1769a5a59a8b"
      },
      "source": [
        "for i1 in range(10):\n",
        "  if(i1%1 == 0):\n",
        "    if i1 < 10:\n",
        "      name = '%0*d' % (2,i1+1)\n",
        "    else:\n",
        "      name = i1+1\n",
        "  file_x=\"/gdrive/MyDrive/Colab Notebooks/data/data_sub/entropies_band{}.csv\".format(str(name))\n",
        "  x=pd.read_csv(file_x)\n",
        "  del(x[x.columns[0]])\n",
        "\n",
        "  band_pred=pd.read_csv(\"/gdrive/MyDrive/Colab Notebooks/data/data_sub/resampled_result_band{}.csv\".format(str(name)))\n",
        "  del(band_pred[band_pred.columns[0]])\n",
        "\n",
        "  knn_pred=band_pred[band_pred.columns[2:23:6]]\n",
        "  random_pred=band_pred[band_pred.columns[4:23:6]]\n",
        "  svc_pred=band_pred[band_pred.columns[0:23:6]]\n",
        "\n",
        "  # mode_res=np.array(np.arange(knn_pred.shape[0])).transpose()\n",
        "  print(\"Band:\", name)\n",
        "\n",
        "  for label in range(4):\n",
        "    file_y='/gdrive/MyDrive/Colab Notebooks/data/data_sub/label_th_3.5{}.h5'.format(str(label))\n",
        "    print(\"Label:\",label)\n",
        "    with h5py.File(file_y, 'r') as hf1:\n",
        "      y=hf1[\"y\"][:]\n",
        "    hf1.close()\n",
        "\n",
        "    X_train, X_test, y_train, y_test = train_test_split(x, y, test_size = 0.3, random_state = 0) \n",
        "    \n",
        "    mode_res=stats.mode([knn_pred[knn_pred.columns[i]],svc_pred[svc_pred.columns[i]],random_pred[random_pred.columns[i]]])\n",
        "    # mode_res=np.vstack((mode_res,temp))\n",
        "    print(\"accuracy score\",accuracy_score(y_test,mode_res[0].transpose()))\n",
        "  "
      ],
      "execution_count": null,
      "outputs": [
        {
          "output_type": "stream",
          "text": [
            "Band: 01\n",
            "Label: 0\n",
            "accuracy score 0.7071940104166666\n",
            "Label: 1\n",
            "accuracy score 0.572998046875\n",
            "Label: 2\n",
            "accuracy score 0.6478678385416666\n",
            "Label: 3\n",
            "accuracy score 0.736083984375\n",
            "Band: 02\n",
            "Label: 0\n",
            "accuracy score 0.6923014322916666\n",
            "Label: 1\n",
            "accuracy score 0.57275390625\n",
            "Label: 2\n",
            "accuracy score 0.6355794270833334\n",
            "Label: 3\n",
            "accuracy score 0.7263997395833334\n",
            "Band: 03\n",
            "Label: 0\n",
            "accuracy score 0.7096354166666666\n",
            "Label: 1\n",
            "accuracy score 0.5777180989583334\n",
            "Label: 2\n",
            "accuracy score 0.6512858072916666\n",
            "Label: 3\n",
            "accuracy score 0.7427571614583334\n",
            "Band: 04\n",
            "Label: 0\n",
            "accuracy score 0.7035319010416666\n",
            "Label: 1\n",
            "accuracy score 0.576171875\n",
            "Label: 2\n",
            "accuracy score 0.6468098958333334\n",
            "Label: 3\n",
            "accuracy score 0.73291015625\n",
            "Band: 05\n",
            "Label: 0\n",
            "accuracy score 0.7097981770833334\n",
            "Label: 1\n",
            "accuracy score 0.5799967447916666\n",
            "Label: 2\n",
            "accuracy score 0.6488444010416666\n",
            "Label: 3\n",
            "accuracy score 0.7354329427083334\n",
            "Band: 06\n",
            "Label: 0\n",
            "accuracy score 0.6878255208333334\n",
            "Label: 1\n",
            "accuracy score 0.5668131510416666\n",
            "Label: 2\n",
            "accuracy score 0.6337076822916666\n",
            "Label: 3\n",
            "accuracy score 0.7230631510416666\n",
            "Band: 07\n",
            "Label: 0\n",
            "accuracy score 0.6913248697916666\n",
            "Label: 1\n",
            "accuracy score 0.5654296875\n",
            "Label: 2\n",
            "accuracy score 0.6334635416666666\n",
            "Label: 3\n",
            "accuracy score 0.7177734375\n",
            "Band: 08\n",
            "Label: 0\n",
            "accuracy score 0.6905924479166666\n",
            "Label: 1\n",
            "accuracy score 0.5682779947916666\n",
            "Label: 2\n",
            "accuracy score 0.6343587239583334\n",
            "Label: 3\n",
            "accuracy score 0.7178548177083334\n",
            "Band: 09\n",
            "Label: 0\n",
            "accuracy score 0.6969401041666666\n",
            "Label: 1\n",
            "accuracy score 0.5736490885416666\n",
            "Label: 2\n",
            "accuracy score 0.6410319010416666\n",
            "Label: 3\n",
            "accuracy score 0.7264811197916666\n",
            "Band: 10\n",
            "Label: 0\n",
            "accuracy score 0.6826985677083334\n",
            "Label: 1\n",
            "accuracy score 0.56298828125\n",
            "Label: 2\n",
            "accuracy score 0.6271158854166666\n",
            "Label: 3\n",
            "accuracy score 0.7125651041666666\n"
          ],
          "name": "stdout"
        }
      ]
    }
  ]
}